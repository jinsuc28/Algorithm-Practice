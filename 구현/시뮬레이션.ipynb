{
 "cells": [
  {
   "cell_type": "code",
   "execution_count": 1,
   "id": "65a65209",
   "metadata": {},
   "outputs": [],
   "source": [
    "#구현 유형은 완전탐색과 시뮬레이션 유형이 있다.\n",
    "\n",
    "#1 시뮬레이션 유형\n"
   ]
  },
  {
   "cell_type": "markdown",
   "id": "5071c2e7",
   "metadata": {},
   "source": [
    "# 상하좌우 문제"
   ]
  },
  {
   "cell_type": "code",
   "execution_count": 12,
   "id": "80002f9c",
   "metadata": {},
   "outputs": [
    {
     "name": "stdout",
     "output_type": "stream",
     "text": [
      "5\n",
      "R R U D D\n",
      "3 3\n"
     ]
    }
   ],
   "source": [
    "N = int(input())\n",
    "x,y = 1,1\n",
    "plans= input().split()\n",
    "dx =  [0,0,1,-1]\n",
    "dy = [1,-1,0,0]\n",
    "move=['R','L','D','U']\n",
    "\n",
    "for plan in plans:\n",
    "    for i in range(len(move)):\n",
    "        if plan==move[i]:\n",
    "            nx= x+ dx[i]\n",
    "            ny= y+ dy[i]\n",
    "    if nx>N or ny>N or ny<1 or nx<1:\n",
    "        continue\n",
    "    x,y=nx,ny\n",
    "print(x,y)\n",
    "        \n",
    "            "
   ]
  },
  {
   "cell_type": "code",
   "execution_count": 8,
   "id": "d954983b",
   "metadata": {},
   "outputs": [
    {
     "name": "stdout",
     "output_type": "stream",
     "text": [
      "5\n",
      "R R U D D\n",
      "3 3\n"
     ]
    }
   ],
   "source": [
    "# N 입력받기\n",
    "n = int(input())\n",
    "x, y = 1, 1\n",
    "plans = input().split()\n",
    "\n",
    "# L, R, U, D에 따른 이동 방향\n",
    "dx = [0, 0, -1, 1]\n",
    "dy = [-1, 1, 0, 0]\n",
    "move_types = ['L', 'R', 'U', 'D']\n",
    "\n",
    "# 이동 계획을 하나씩 확인\n",
    "for plan in plans:\n",
    "    # 이동 후 좌표 구하기\n",
    "    for i in range(len(move_types)):\n",
    "        if plan == move_types[i]:\n",
    "            nx = x + dx[i]\n",
    "            ny = y + dy[i]\n",
    "    # 공간을 벗어나는 경우 무시\n",
    "    if nx < 1 or ny < 1 or nx > n or ny > n:\n",
    "        continue\n",
    "    # 이동 수행\n",
    "    x, y = nx, ny\n",
    "\n",
    "print(x, y)"
   ]
  },
  {
   "cell_type": "markdown",
   "id": "ca889c58",
   "metadata": {},
   "source": [
    "# 시각 문제"
   ]
  },
  {
   "cell_type": "code",
   "execution_count": null,
   "id": "0a90ea3c",
   "metadata": {},
   "outputs": [],
   "source": []
  }
 ],
 "metadata": {
  "kernelspec": {
   "display_name": "Python [conda env:tf25] *",
   "language": "python",
   "name": "conda-env-tf25-py"
  },
  "language_info": {
   "codemirror_mode": {
    "name": "ipython",
    "version": 3
   },
   "file_extension": ".py",
   "mimetype": "text/x-python",
   "name": "python",
   "nbconvert_exporter": "python",
   "pygments_lexer": "ipython3",
   "version": "3.9.0"
  }
 },
 "nbformat": 4,
 "nbformat_minor": 5
}
