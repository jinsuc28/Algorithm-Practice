{
 "cells": [
  {
   "cell_type": "code",
   "execution_count": 1,
   "id": "b39f9d50",
   "metadata": {},
   "outputs": [],
   "source": [
    "#구현 유형은 완전탐색과 시뮬레이션 유형이 있다.\n",
    "\n",
    "#1 시뮬레이션 유형\n"
   ]
  },
  {
   "cell_type": "markdown",
   "id": "ed1698e1",
   "metadata": {},
   "source": [
    "# 상하좌우 문제"
   ]
  },
  {
   "cell_type": "code",
   "execution_count": 12,
   "id": "a83a6b60",
   "metadata": {},
   "outputs": [
    {
     "name": "stdout",
     "output_type": "stream",
     "text": [
      "5\n",
      "R R U D D\n",
      "3 3\n"
     ]
    }
   ],
   "source": [
    "N = int(input())\n",
    "x,y = 1,1\n",
    "plans= input().split()\n",
    "dx =  [0,0,1,-1]\n",
    "dy = [1,-1,0,0]\n",
    "move=['R','L','D','U']\n",
    "\n",
    "for plan in plans:\n",
    "    for i in range(len(move)):\n",
    "        if plan==move[i]:\n",
    "            nx= x+ dx[i]\n",
    "            ny= y+ dy[i]\n",
    "    if nx>N or ny>N or ny<1 or nx<1:\n",
    "        continue\n",
    "    x,y=nx,ny\n",
    "print(x,y)\n",
    "        \n",
    "            "
   ]
  },
  {
   "cell_type": "markdown",
   "id": "3e079e7d",
   "metadata": {},
   "source": [
    "# 답안"
   ]
  },
  {
   "cell_type": "code",
   "execution_count": 8,
   "id": "0ed751b1",
   "metadata": {},
   "outputs": [
    {
     "name": "stdout",
     "output_type": "stream",
     "text": [
      "5\n",
      "R R U D D\n",
      "3 3\n"
     ]
    }
   ],
   "source": [
    "# N 입력받기\n",
    "n = int(input())\n",
    "x, y = 1, 1\n",
    "plans = input().split()\n",
    "\n",
    "# L, R, U, D에 따른 이동 방향\n",
    "dx = [0, 0, -1, 1]\n",
    "dy = [-1, 1, 0, 0]\n",
    "move_types = ['L', 'R', 'U', 'D']\n",
    "\n",
    "# 이동 계획을 하나씩 확인\n",
    "for plan in plans:\n",
    "    # 이동 후 좌표 구하기\n",
    "    for i in range(len(move_types)):\n",
    "        if plan == move_types[i]:\n",
    "            nx = x + dx[i]\n",
    "            ny = y + dy[i]\n",
    "    # 공간을 벗어나는 경우 무시\n",
    "    if nx < 1 or ny < 1 or nx > n or ny > n:\n",
    "        continue\n",
    "    # 이동 수행\n",
    "    x, y = nx, ny\n",
    "\n",
    "print(x, y)"
   ]
  },
  {
   "cell_type": "markdown",
   "id": "48118f4b",
   "metadata": {},
   "source": [
    "# 시각 문제 (완전탐색)"
   ]
  },
  {
   "cell_type": "code",
   "execution_count": 27,
   "id": "85328fc0",
   "metadata": {},
   "outputs": [
    {
     "name": "stdout",
     "output_type": "stream",
     "text": [
      "5\n",
      "5400\n"
     ]
    }
   ],
   "source": [
    "#초 7번\n",
    "#분 7번\n",
    "#시 3번\n",
    "N = int(input())+1\n",
    "\n",
    "nh,nm,ns=0,0,0\n",
    "cnt=0\n",
    "for i in range(N*60*60):\n",
    "    ns+=1\n",
    "    if ns ==60:\n",
    "        ns=0\n",
    "        nm+1\n",
    "        if nm==60:\n",
    "            nh+=1\n",
    "    if \"3\" in str(nh)+str(nm)+str(ns):\n",
    "        cnt+=1\n",
    "print(cnt)"
   ]
  },
  {
   "cell_type": "markdown",
   "id": "6bd6a65b",
   "metadata": {},
   "source": [
    "# 답안"
   ]
  },
  {
   "cell_type": "code",
   "execution_count": 26,
   "id": "e2caf6d4",
   "metadata": {},
   "outputs": [
    {
     "name": "stdout",
     "output_type": "stream",
     "text": [
      "5\n",
      "11475\n"
     ]
    }
   ],
   "source": [
    "# H를 입력받기\n",
    "h = int(input())\n",
    "\n",
    "count = 0\n",
    "for i in range(h + 1):\n",
    "    for j in range(60):\n",
    "        for k in range(60):\n",
    "            # 매 시각 안에 '3'이 포함되어 있다면 카운트 증가\n",
    "            if '3' in str(i) + str(j) + str(k):\n",
    "                count += 1\n",
    "\n",
    "print(count)"
   ]
  },
  {
   "cell_type": "code",
   "execution_count": null,
   "id": "be439844",
   "metadata": {},
   "outputs": [],
   "source": []
  }
 ],
 "metadata": {
  "kernelspec": {
   "display_name": "Python [conda env:tf25] *",
   "language": "python",
   "name": "conda-env-tf25-py"
  },
  "language_info": {
   "codemirror_mode": {
    "name": "ipython",
    "version": 3
   },
   "file_extension": ".py",
   "mimetype": "text/x-python",
   "name": "python",
   "nbconvert_exporter": "python",
   "pygments_lexer": "ipython3",
   "version": "3.9.0"
  }
 },
 "nbformat": 4,
 "nbformat_minor": 5
}
