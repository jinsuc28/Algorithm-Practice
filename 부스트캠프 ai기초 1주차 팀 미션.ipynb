{
 "cells": [
  {
   "cell_type": "markdown",
   "id": "f441539c",
   "metadata": {},
   "source": [
    "# 1번"
   ]
  },
  {
   "cell_type": "code",
   "execution_count": 5,
   "id": "7373c372",
   "metadata": {},
   "outputs": [],
   "source": [
    "num_list = [1,5,7,15,16,22,28,29]\n",
    "\n",
    "def get_odd_num(num_list):\n",
    "    num= []\n",
    "    for i in num_list:\n",
    "        if i/2 != 0:\n",
    "            num.append(i)\n",
    "        else:\n",
    "            pass\n",
    "    return num\n",
    "\n",
    "# 반복문을 통해 홀수인 것만 리스트에 넣었습니다."
   ]
  },
  {
   "cell_type": "code",
   "execution_count": 6,
   "id": "d29e54c3",
   "metadata": {},
   "outputs": [
    {
     "name": "stdout",
     "output_type": "stream",
     "text": [
      "[1, 5, 7, 15, 16, 22, 28, 29]\n"
     ]
    }
   ],
   "source": [
    "print(get_odd_num(num_list))"
   ]
  },
  {
   "cell_type": "markdown",
   "id": "885f3684",
   "metadata": {},
   "source": [
    "# 2번"
   ]
  },
  {
   "cell_type": "code",
   "execution_count": 61,
   "id": "71302d78",
   "metadata": {},
   "outputs": [],
   "source": [
    "sentence = \"way a is there will a is there where\"\n",
    "\n",
    "def reverse_sentence(sentence):\n",
    "    sentence = sentence.split(\" \")[::-1]\n",
    "    sentence = ' '.join(sentence)\n",
    "    return sentence\n",
    "\n",
    "#문자열을 \" \"기준으로 리스트에 역순으로 정의한 리스트를 다시 출력했습니다"
   ]
  },
  {
   "cell_type": "code",
   "execution_count": 64,
   "id": "99214b7a",
   "metadata": {},
   "outputs": [
    {
     "name": "stdout",
     "output_type": "stream",
     "text": [
      "where there is a will there is a way\n"
     ]
    }
   ],
   "source": [
    "print(reverse_sentence(sentence))"
   ]
  },
  {
   "cell_type": "markdown",
   "id": "dd072504",
   "metadata": {},
   "source": [
    "# 3번"
   ]
  },
  {
   "cell_type": "code",
   "execution_count": 70,
   "id": "addaf12a",
   "metadata": {},
   "outputs": [],
   "source": [
    "score = [(100,100), (95,90), (55,60), (75,80), (70,70)]\n",
    "\n",
    "def get_avg(score):\n",
    "    num = 0\n",
    "    for i,e in score:\n",
    "        num+= 1\n",
    "        print(f\"{num}번, 평균 :\"+f\"{((i+e)/2)}\")\n",
    "        \n",
    "# 반복문이 반복될 때 num카운트 되도록 하고 평균을 구했습니다"
   ]
  },
  {
   "cell_type": "code",
   "execution_count": 71,
   "id": "721ba2ea",
   "metadata": {},
   "outputs": [
    {
     "name": "stdout",
     "output_type": "stream",
     "text": [
      "1번, 평균 :100.0\n",
      "2번, 평균 :92.5\n",
      "3번, 평균 :57.5\n",
      "4번, 평균 :77.5\n",
      "5번, 평균 :70.0\n"
     ]
    }
   ],
   "source": [
    "get_avg(score)"
   ]
  },
  {
   "cell_type": "markdown",
   "id": "e944301b",
   "metadata": {},
   "source": [
    "# 4번"
   ]
  },
  {
   "cell_type": "code",
   "execution_count": 118,
   "id": "4eb5faec",
   "metadata": {},
   "outputs": [],
   "source": [
    "dict_first = {'사과':30, '배':15, '감':10, '포도':10}\n",
    "dict_second = {'사과':5, '감':25, '배':15, '귤': 25}\n",
    "\n",
    "def merge_dict(dict_first, dict_second):\n",
    "    dict={'감':0,'귤':0,'배':0,'사과':0,'포도':0}\n",
    "    for i in dict.keys():\n",
    "        if i in dict_first.keys() and i in dict_second.keys():\n",
    "            dict[i]=dict_first[i]+dict_second[i]\n",
    "        else:\n",
    "            if i in dict_first.keys():\n",
    "                dict[i]=dict_first[i]\n",
    "            else:\n",
    "                dict[i]=dict_second[i]\n",
    "    return dict\n",
    "\n",
    "# 출력하고자 하는 딕셔너리를 만들어 놓고 first, second를 새로 만든 dict에 담는 형태로 작성했습니다."
   ]
  },
  {
   "cell_type": "code",
   "execution_count": 119,
   "id": "0043aaae",
   "metadata": {},
   "outputs": [
    {
     "data": {
      "text/plain": [
       "{'감': 35, '귤': 25, '배': 30, '사과': 35, '포도': 10}"
      ]
     },
     "execution_count": 119,
     "metadata": {},
     "output_type": "execute_result"
    }
   ],
   "source": [
    "merge_dict(dict_first, dict_second)"
   ]
  },
  {
   "cell_type": "markdown",
   "id": "d2c52a38",
   "metadata": {},
   "source": [
    "# 5번"
   ]
  },
  {
   "cell_type": "code",
   "execution_count": 40,
   "id": "18978355",
   "metadata": {},
   "outputs": [],
   "source": [
    "inputs = \"cat32dog16cow5\"\n",
    "import re\n",
    "\n",
    "def find_string(inputs):\n",
    "    inputs1=re.sub(\"[0-9]\",\" \",inputs).split(\" \")\n",
    "    inputs1= inputs1[::2]\n",
    "    return print(inputs1)\n",
    "\n",
    "# re를 안쓰고 출력하는 법은 잘 모르겠어서 정규표현식을 이용하였습니다!"
   ]
  },
  {
   "cell_type": "code",
   "execution_count": 41,
   "id": "81a207f8",
   "metadata": {},
   "outputs": [
    {
     "name": "stdout",
     "output_type": "stream",
     "text": [
      "['cat', 'dog', 'cow']\n"
     ]
    }
   ],
   "source": [
    "string_list = find_string(inputs)"
   ]
  }
 ],
 "metadata": {
  "kernelspec": {
   "display_name": "Python [conda env:tf25] *",
   "language": "python",
   "name": "conda-env-tf25-py"
  },
  "language_info": {
   "codemirror_mode": {
    "name": "ipython",
    "version": 3
   },
   "file_extension": ".py",
   "mimetype": "text/x-python",
   "name": "python",
   "nbconvert_exporter": "python",
   "pygments_lexer": "ipython3",
   "version": "3.9.0"
  }
 },
 "nbformat": 4,
 "nbformat_minor": 5
}
