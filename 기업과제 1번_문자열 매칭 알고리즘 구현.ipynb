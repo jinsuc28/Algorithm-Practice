{
 "cells": [
  {
   "cell_type": "markdown",
   "id": "3033ed58",
   "metadata": {},
   "source": [
    "# 1번"
   ]
  },
  {
   "cell_type": "code",
   "execution_count": 151,
   "id": "21390336",
   "metadata": {},
   "outputs": [],
   "source": [
    "def full_search(N,S,Q,word):\n",
    "    answer= [[0 for i in range(N)] for q in range(Q)]\n",
    "\n",
    "    for q in range(Q):\n",
    "        for i,s in enumerate(S):\n",
    "            if s in word[q]:\n",
    "                answer[q][i]='YES'\n",
    "            else:\n",
    "                answer[q][i]='NO'\n",
    "    return answer"
   ]
  },
  {
   "cell_type": "code",
   "execution_count": 152,
   "id": "0634aabf",
   "metadata": {},
   "outputs": [],
   "source": [
    "N,S = 9, ['aaa','aaaabb','aabbcc','abb','bcc','bbcc','aabbccdd','aaabb','cccd']\n",
    "Q,word =2,['aaaabbaabbccdd','aaaabbaabbccdd']"
   ]
  },
  {
   "cell_type": "code",
   "execution_count": 160,
   "id": "fe8c89b9",
   "metadata": {},
   "outputs": [
    {
     "data": {
      "text/plain": [
       "[['YES', 'YES', 'YES', 'YES', 'YES', 'YES', 'YES', 'YES', 'YES'],\n",
       " ['YES', 'YES', 'YES', 'YES', 'YES', 'YES', 'YES', 'YES', 'YES'],\n",
       " ['YES', 'YES', 'YES', 'YES', 'YES', 'YES', 'YES', 'YES', 'YES']]"
      ]
     },
     "execution_count": 160,
     "metadata": {},
     "output_type": "execute_result"
    }
   ],
   "source": [
    "full_search(N,S,Q,word)"
   ]
  },
  {
   "cell_type": "markdown",
   "id": "4e23dfed",
   "metadata": {},
   "source": [
    "# 2번"
   ]
  },
  {
   "cell_type": "code",
   "execution_count": 2,
   "id": "4c93f15f",
   "metadata": {},
   "outputs": [],
   "source": [
    "# KMP를 이용하기 위한 table 전처리 함수\n",
    "def table_fn(pattern):\n",
    "    parttern_size = len(pattern)\n",
    "    table = [0 for _ in range(parttern_size)] # 패턴 저장용 테이블 \n",
    "    \n",
    "    j = 0 # 테이블 값과 인덱스 접근\n",
    "    for idx in range(1, parttern_size): \n",
    "        # j가 0이거나 idx와 j의 pattern 값이 같아질때까지 진행한다\n",
    "        while j > 0 and pattern[idx] != pattern[j]:\n",
    "            j = table[j-1]\n",
    "        \n",
    "        \n",
    "        if pattern[idx] == pattern[j] : # 값이 일치할 경우 진행\n",
    "            j += 1 # j값에 1을 더한 값을 table에 입력\n",
    "            table[idx] = j\n",
    "    return table\n",
    "\n",
    "def KMP(word, pattern):\n",
    "    # 패턴의 table 값 가져오기\n",
    "    table = table_fn(pattern)\n",
    "    \n",
    "    results = [] # 패턴과 일치하는 인덱스 가져오기\n",
    "    j = 0\n",
    "    \n",
    "    for idx in range(len(word)):\n",
    "        while j > 0 and word[idx] != pattern[j] : # word와 패턴이 일치하지 않는 경우 진행\n",
    "            j = table[j-1]\n",
    "        if word[idx] == pattern[j]:\n",
    "            if j == len(pattern)-1 : #j가 패턴 마지막에 이라면 word의 인덱스 값을 result에 넣음\n",
    "                results.append(idx-len(pattern)+2)\n",
    "                break #패턴당 첫번째 매칭 결과만 입력\n",
    "                \n",
    "            else:\n",
    "                j += 1 # 값이 일치했다면, j에 1증가\n",
    "    \n",
    "    return results\n",
    "\n",
    "\n",
    "def total(N,S,Q,word):\n",
    "    result=[[] for i in range(Q)] #word 수 Q만큼 리스트를 만듬\n",
    "    for q in range(Q):\n",
    "        print(f\"\\n {q} word {word[q]}\"+\"\\n\") #매칭할 word idx와 word 출력\n",
    "        for i in range(N):\n",
    "            result[q].append(KMP(word[q],S[i])) #pattern 와 매칭된 word idx를 result에 입력\n",
    "            print(f'##POS ={result[q][i]}, pattern = {S[i]}')\n"
   ]
  },
  {
   "cell_type": "code",
   "execution_count": 3,
   "id": "ce0e07f1",
   "metadata": {},
   "outputs": [],
   "source": [
    "N,S = 9, ['aaa','aaaabb','aabbcc','abb','bcc','bbcc','aabbccdd','aaabb','ccdc']\n",
    "Q,word =3,['aaaabbaabbccdd','aaaabbaabbccdd','aaaabbaabbccdd']"
   ]
  },
  {
   "cell_type": "code",
   "execution_count": 4,
   "id": "dc3f119b",
   "metadata": {},
   "outputs": [
    {
     "name": "stdout",
     "output_type": "stream",
     "text": [
      "\n",
      " 0 word aaaabbaabbccdd\n",
      "\n",
      "##POS =[1], pattern = aaa\n",
      "##POS =[1], pattern = aaaabb\n",
      "##POS =[7], pattern = aabbcc\n",
      "##POS =[4], pattern = abb\n",
      "##POS =[10], pattern = bcc\n",
      "##POS =[9], pattern = bbcc\n",
      "##POS =[7], pattern = aabbccdd\n",
      "##POS =[2], pattern = aaabb\n",
      "##POS =[], pattern = ccdc\n",
      "\n",
      " 1 word aaaabbaabbccdd\n",
      "\n",
      "##POS =[1], pattern = aaa\n",
      "##POS =[1], pattern = aaaabb\n",
      "##POS =[7], pattern = aabbcc\n",
      "##POS =[4], pattern = abb\n",
      "##POS =[10], pattern = bcc\n",
      "##POS =[9], pattern = bbcc\n",
      "##POS =[7], pattern = aabbccdd\n",
      "##POS =[2], pattern = aaabb\n",
      "##POS =[], pattern = ccdc\n",
      "\n",
      " 2 word aaaabbaabbccdd\n",
      "\n",
      "##POS =[1], pattern = aaa\n",
      "##POS =[1], pattern = aaaabb\n",
      "##POS =[7], pattern = aabbcc\n",
      "##POS =[4], pattern = abb\n",
      "##POS =[10], pattern = bcc\n",
      "##POS =[9], pattern = bbcc\n",
      "##POS =[7], pattern = aabbccdd\n",
      "##POS =[2], pattern = aaabb\n",
      "##POS =[], pattern = ccdc\n"
     ]
    }
   ],
   "source": [
    "total(N,S,Q,word)"
   ]
  },
  {
   "cell_type": "markdown",
   "id": "7dc27a5b",
   "metadata": {},
   "source": [
    "# 3번"
   ]
  },
  {
   "cell_type": "code",
   "execution_count": 52,
   "id": "2fe8c44b",
   "metadata": {},
   "outputs": [],
   "source": [
    "# KMP를 이용하기 위한 table 전처리 함수\n",
    "def table_fn(pattern):\n",
    "    parttern_size = len(pattern)\n",
    "    table = [0 for _ in range(parttern_size)] # 패턴 저장용 테이블 \n",
    "    \n",
    "    j = 0 # 테이블 값과 인덱스 접근\n",
    "    for idx in range(1, parttern_size): \n",
    "        # j가 0이거나 idx와 j의 pattern 값이 같아질때까지 진행한다\n",
    "        while j > 0 and pattern[idx] != pattern[j]:\n",
    "            j = table[j-1]\n",
    "        \n",
    "        \n",
    "        if pattern[idx] == pattern[j] : # 값이 일치할 경우 진행\n",
    "            j += 1 # j값에 1을 더한 값을 table에 입력\n",
    "            table[idx] = j\n",
    "    return table\n",
    "\n",
    "def KMP(word, pattern):\n",
    "    # 패턴의 table 값 가져오기\n",
    "    table = table_fn(pattern)\n",
    "    \n",
    "    results = [] # 패턴과 일치하는 인덱스 가져오기\n",
    "    j = 0\n",
    "    \n",
    "    for idx in range(len(word)):\n",
    "        while j > 0 and word[idx] != pattern[j] : # word와 패턴이 일치하지 않는 경우 진행\n",
    "            j = table[j-1]\n",
    "        if word[idx] == pattern[j]:\n",
    "            if j == len(pattern)-1 : #j가 패턴 마지막에 이라면 word의 인덱스 값을 result에 넣음\n",
    "                results.append(idx-len(pattern)+2)\n",
    "                j = table[j] # 추가 매칭을 위해 j값 table의 인덱스로 변경\n",
    "            else:\n",
    "                j += 1 # 값이 일치했다면, j에 1증가\n",
    "    \n",
    "    return results\n",
    "\n",
    "def total(N,S,Q,word):\n",
    "    result=[[] for i in range(Q)] #word 수 Q만큼 리스트를 만듬\n",
    "    for q in range(Q):\n",
    "        print(f\"\\n {q} word {word[q]}\"+\"\\n\") #매칭할 word idx와 word 출력\n",
    "        for i in range(N):\n",
    "            result[q].append(KMP(word[q],S[i])) #pattern 와 매칭된 word idx를 result에 입력\n",
    "#             for num in range(len(result[q][i])):\n",
    "            print('##POS ={0}, pattern = {1}'.format(''.join(map(str,result[q][i]))),S[i]) #pos와 pattern 출력"
   ]
  },
  {
   "cell_type": "code",
   "execution_count": 53,
   "id": "d1fbef4e",
   "metadata": {},
   "outputs": [],
   "source": [
    "N,S = 9, ['aaa','aaaabb','aabbcc','abb','bcc','bbcc','aabbccdd','aaabb','ccdcccc']\n",
    "Q,word =3,['aaaabbaabbccdd','aaaabbaabbccdd','aaaabbaabbccdd']"
   ]
  },
  {
   "cell_type": "code",
   "execution_count": 54,
   "id": "0457de91",
   "metadata": {},
   "outputs": [
    {
     "name": "stdout",
     "output_type": "stream",
     "text": [
      "\n",
      " 0 word aaaabbaabbccdd\n",
      "\n"
     ]
    },
    {
     "ename": "IndexError",
     "evalue": "Replacement index 1 out of range for positional args tuple",
     "output_type": "error",
     "traceback": [
      "\u001b[0;31m---------------------------------------------------------------------------\u001b[0m",
      "\u001b[0;31mIndexError\u001b[0m                                Traceback (most recent call last)",
      "Input \u001b[0;32mIn [54]\u001b[0m, in \u001b[0;36m<cell line: 1>\u001b[0;34m()\u001b[0m\n\u001b[0;32m----> 1\u001b[0m \u001b[43mtotal\u001b[49m\u001b[43m(\u001b[49m\u001b[43mN\u001b[49m\u001b[43m,\u001b[49m\u001b[43mS\u001b[49m\u001b[43m,\u001b[49m\u001b[43mQ\u001b[49m\u001b[43m,\u001b[49m\u001b[43mword\u001b[49m\u001b[43m)\u001b[49m\n",
      "Input \u001b[0;32mIn [52]\u001b[0m, in \u001b[0;36mtotal\u001b[0;34m(N, S, Q, word)\u001b[0m\n\u001b[1;32m     42\u001b[0m             result[q]\u001b[38;5;241m.\u001b[39mappend(KMP(word[q],S[i])) \u001b[38;5;66;03m#pattern 와 매칭된 word idx를 result에 입력\u001b[39;00m\n\u001b[1;32m     43\u001b[0m \u001b[38;5;66;03m#             for num in range(len(result[q][i])):\u001b[39;00m\n\u001b[0;32m---> 44\u001b[0m             \u001b[38;5;28mprint\u001b[39m(\u001b[38;5;124;43m'\u001b[39;49m\u001b[38;5;124;43m##POS =\u001b[39;49m\u001b[38;5;132;43;01m{0}\u001b[39;49;00m\u001b[38;5;124;43m, pattern = \u001b[39;49m\u001b[38;5;132;43;01m{1}\u001b[39;49;00m\u001b[38;5;124;43m'\u001b[39;49m\u001b[38;5;241;43m.\u001b[39;49m\u001b[43mformat\u001b[49m\u001b[43m(\u001b[49m\u001b[38;5;124;43m'\u001b[39;49m\u001b[38;5;124;43m'\u001b[39;49m\u001b[38;5;241;43m.\u001b[39;49m\u001b[43mjoin\u001b[49m\u001b[43m(\u001b[49m\u001b[38;5;28;43mmap\u001b[39;49m\u001b[43m(\u001b[49m\u001b[38;5;28;43mstr\u001b[39;49m\u001b[43m,\u001b[49m\u001b[43mresult\u001b[49m\u001b[43m[\u001b[49m\u001b[43mq\u001b[49m\u001b[43m]\u001b[49m\u001b[43m[\u001b[49m\u001b[43mi\u001b[49m\u001b[43m]\u001b[49m\u001b[43m)\u001b[49m\u001b[43m)\u001b[49m\u001b[43m)\u001b[49m,S[i])\n",
      "\u001b[0;31mIndexError\u001b[0m: Replacement index 1 out of range for positional args tuple"
     ]
    }
   ],
   "source": [
    "total(N,S,Q,word)"
   ]
  },
  {
   "cell_type": "code",
   "execution_count": null,
   "id": "17f9bba5",
   "metadata": {},
   "outputs": [],
   "source": []
  },
  {
   "cell_type": "code",
   "execution_count": null,
   "id": "3aff69da",
   "metadata": {},
   "outputs": [],
   "source": []
  }
 ],
 "metadata": {
  "kernelspec": {
   "display_name": "Python [conda env:tf25] *",
   "language": "python",
   "name": "conda-env-tf25-py"
  },
  "language_info": {
   "codemirror_mode": {
    "name": "ipython",
    "version": 3
   },
   "file_extension": ".py",
   "mimetype": "text/x-python",
   "name": "python",
   "nbconvert_exporter": "python",
   "pygments_lexer": "ipython3",
   "version": "3.9.0"
  }
 },
 "nbformat": 4,
 "nbformat_minor": 5
}
