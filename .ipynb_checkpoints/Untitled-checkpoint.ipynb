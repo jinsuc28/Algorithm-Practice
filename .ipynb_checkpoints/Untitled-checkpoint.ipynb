{
 "cells": [
  {
   "cell_type": "code",
   "execution_count": 11,
   "id": "d3958dc7",
   "metadata": {},
   "outputs": [
    {
     "name": "stdout",
     "output_type": "stream",
     "text": [
      "6\n"
     ]
    }
   ],
   "source": [
    "import sys\n",
    "# N,K = map(int,sys.stdin.readline().split())\n",
    "\n",
    "coin = [1,5,10,50,100,500,1000,5000,10000,50000]\n",
    "coin = [i for i in coin[:N]]\n",
    "\n",
    "count = 0\n",
    "for i in coin[::-1]:\n",
    "    if K!=0:\n",
    "        count+= K//i\n",
    "        K = K%i\n",
    "    else:\n",
    "        pass\n",
    "print(count)"
   ]
  },
  {
   "cell_type": "code",
   "execution_count": 18,
   "id": "8310b022",
   "metadata": {},
   "outputs": [
    {
     "name": "stdout",
     "output_type": "stream",
     "text": [
      "[]\n"
     ]
    }
   ],
   "source": [
    "import sys\n",
    "nums = []\n",
    "for line in sys.stdin:\n",
    "    nums.append(line)\n",
    "print(nums)"
   ]
  },
  {
   "cell_type": "code",
   "execution_count": null,
   "id": "a3780118",
   "metadata": {},
   "outputs": [],
   "source": [
    "N = sys.stdin.readline(\"10 4200\")"
   ]
  },
  {
   "cell_type": "code",
   "execution_count": 4,
   "id": "22aa23df",
   "metadata": {},
   "outputs": [],
   "source": [
    "from torch"
   ]
  },
  {
   "cell_type": "code",
   "execution_count": 5,
   "id": "ce18c359",
   "metadata": {},
   "outputs": [
    {
     "ename": "SyntaxError",
     "evalue": "invalid syntax (1926505017.py, line 1)",
     "output_type": "error",
     "traceback": [
      "\u001b[0;36m  Input \u001b[0;32mIn [5]\u001b[0;36m\u001b[0m\n\u001b[0;31m    torch.\u001b[0m\n\u001b[0m          ^\u001b[0m\n\u001b[0;31mSyntaxError\u001b[0m\u001b[0;31m:\u001b[0m invalid syntax\n"
     ]
    }
   ],
   "source": [
    "torch."
   ]
  },
  {
   "cell_type": "code",
   "execution_count": 9,
   "id": "06bce249",
   "metadata": {},
   "outputs": [],
   "source": [
    "import numpy as np\n",
    "v = np.array([[[ 0,  1,  2,  3],\n",
    "        [ 4,  5,  6,  7]]])"
   ]
  },
  {
   "cell_type": "code",
   "execution_count": 10,
   "id": "b3af6432",
   "metadata": {},
   "outputs": [
    {
     "data": {
      "text/plain": [
       "array([[ 4,  6,  8, 10]])"
      ]
     },
     "execution_count": 10,
     "metadata": {},
     "output_type": "execute_result"
    }
   ],
   "source": [
    "v.sum(axis=1)"
   ]
  },
  {
   "cell_type": "code",
   "execution_count": 14,
   "id": "94332f9c",
   "metadata": {},
   "outputs": [],
   "source": [
    "v = v.reshape(2,4)"
   ]
  },
  {
   "cell_type": "code",
   "execution_count": 21,
   "id": "246d46be",
   "metadata": {},
   "outputs": [
    {
     "data": {
      "text/plain": [
       "array([ 6, 22])"
      ]
     },
     "execution_count": 21,
     "metadata": {},
     "output_type": "execute_result"
    }
   ],
   "source": [
    "v.sum(axis=1)"
   ]
  },
  {
   "cell_type": "code",
   "execution_count": 27,
   "id": "07467876",
   "metadata": {},
   "outputs": [
    {
     "data": {
      "text/plain": [
       "2"
      ]
     },
     "execution_count": 27,
     "metadata": {},
     "output_type": "execute_result"
    }
   ],
   "source": [
    "v.ndim"
   ]
  },
  {
   "cell_type": "code",
   "execution_count": 2,
   "id": "ca08d635",
   "metadata": {},
   "outputs": [
    {
     "data": {
      "text/plain": [
       "array([[[0, 1, 2, 3],\n",
       "        [4, 5, 6, 7]]])"
      ]
     },
     "execution_count": 2,
     "metadata": {},
     "output_type": "execute_result"
    }
   ],
   "source": [
    "import numpy as np\n",
    "\n",
    "v = np.array([[[ 0,  1,  2,  3],\n",
    "        [ 4,  5,  6,  7]]])\n",
    "v"
   ]
  },
  {
   "cell_type": "code",
   "execution_count": 9,
   "id": "7a3ffaff",
   "metadata": {},
   "outputs": [
    {
     "data": {
      "text/plain": [
       "array([[[0, 1, 2, 3],\n",
       "        [4, 5, 6, 7]]])"
      ]
     },
     "execution_count": 9,
     "metadata": {},
     "output_type": "execute_result"
    }
   ],
   "source": [
    "v"
   ]
  },
  {
   "cell_type": "code",
   "execution_count": 10,
   "id": "d7421fc2",
   "metadata": {},
   "outputs": [
    {
     "ename": "SyntaxError",
     "evalue": "invalid syntax (866646476.py, line 1)",
     "output_type": "error",
     "traceback": [
      "\u001b[0;36m  Input \u001b[0;32mIn [10]\u001b[0;36m\u001b[0m\n\u001b[0;31m    a = [''나라말쌈이'']\u001b[0m\n\u001b[0m           ^\u001b[0m\n\u001b[0;31mSyntaxError\u001b[0m\u001b[0;31m:\u001b[0m invalid syntax\n"
     ]
    }
   ],
   "source": [
    "a = '가나아라다, '나라말쌈이''"
   ]
  },
  {
   "cell_type": "code",
   "execution_count": 15,
   "id": "f941761d",
   "metadata": {},
   "outputs": [],
   "source": [
    "import pandas as pd\n",
    "import os"
   ]
  },
  {
   "cell_type": "code",
   "execution_count": 28,
   "id": "7b94ebf8",
   "metadata": {},
   "outputs": [],
   "source": [
    "df = pd.read_csv(os.path.join('', 'sports_news_data.csv'))\n",
    "raw_df = df.copy()"
   ]
  },
  {
   "cell_type": "code",
   "execution_count": 42,
   "id": "75a9a11e",
   "metadata": {
    "scrolled": false
   },
   "outputs": [
    {
     "data": {
      "text/plain": [
       "'<p>[골닷컴] 박문수 기자 = 맨체스터 시티(이하 맨시티)가 번리와의 맞대결에서 2-0으로 승리했다.</p>\\n\\n<p>맨시티는 16일 오후(한국시각) \\'에티하드 스타디움\\'에서 열린 \\'2021/2022시즌 프리미어리그 8라운드\\' 번리와의 홈 경기에서 베르나르두 실바와 더 브라위너의 연속 득점에 힘입어 2-0으로 승리했다. 승점 3점을 챙긴 맨시티는 브렌트포드전을 앞둔 첼시를 제치고 리그 선두 등극에 성공했다.</p>\\n\\n\\n<p>과르디올라 감독은 4-3-3 포메이션을 들고 나왔다. 포든과 마레즈 그리고 스털링이 스리톱으로 나서면서, 로드리와 실바 그리고 더 브라위너가 중원에서 호흡을 맞췄다. 칸셀루와 스톤스 그리고 라포르테와 아케가 포백을, 스테펜이 골문을 지켰다. 참고로 이날 맨시티는 에데르송과 가브리엘 제주스가 브라질 대표팀 일정 소화 문제로 결장했다. 제로톱 자리에서 뛰었던 페란 토레스마저 부상 아웃된 상태였다.\\xa0</p>\\n\\n<p>이 대신 잇몸으로 나섰지만, 맨시티 전력은 탄탄했다. 공격진 구성에 애를 먹었지만, 중원에서부터 상대를 강하게 압박하며 흔들었고, 승점 3점 확보에 성공했다.</p>\\n\\n<p>선제 득점 주인공은 베르나르두 실바였다. 맨시티의 팀워크가 돋보인 장면이었다. 칸셀루와의 원투 패스에 이어 실바가 문전에 있던 포든에게 패스를 내줬다. 포든이 슈팅을 때렸지만, 포프 골키퍼에게 막혔다. 그러나 미처 공을 잡지 못했고, 이 틈을 타 실바가 가볍게 밀어 넣으며 포문을 열었다.\\xa0</p>\\n\\n<p>반격에 나선 번리는 전반 22분 결정적인 기회를 잡았지만, 쿠르네의 슈팅이 스테펜에 막히고 말았다. 추가 득점 사냥에 나선 맨시티는 전반 33분 마레즈가 결정적인 기회를 잡았지만, 슈팅이 골대 위로 벗어났다. 전반 40분에는 맨시티의 스털링이 감각적인 바이시클 슈팅으로 추가 득점을 노렸지만, 상대 수비진에 막혔다.</p>\\n\\n<hr style=\"color: #00ac77; width: 100%; background: #00ac77; border: 0; height: 2px;\" /><span><strong>주요 뉴스\\xa0 | </strong><a href=\"https://www.goal.com/kr/목록/a/1cn0mtpq1v74bzc7zbt6y0glm\" target=\"_blank\">\" 토트넘 선수들의 연애 전선은?\"</a></span>\\n\\n<hr style=\"color: #00ac77; width: 100%; background: #00ac77; border: 0; height: 2px;\" />\\n<p>후반 5분에도 마레즈가 기회를 잡았지만, 이번에도 골문을 벗어났다. 후반 14분에도 다시 한 번 맨시티가 기회를 잡았지만, 라포르테의 슈팅이 골대 위로 향했다.</p>\\n\\n<p>그렇게 후반 25분 더 브라위너가 추가 득점에 성공했다. 문전 혼전 상황에서 페널티 박스 오른쪽에서 공을 잡은 더 브라위너가 강력한 왼발 슈팅으로 2-0을 만들었다.</p>\\n\\n<p>점수 차를 벌린 맨시티는 비교적 여유로운 경기 운용으로 리드를 지켰다. 번리 또한 반격을 노렸지만, 맨시티 골망을 흔들지 못했다. 그렇게 경기는 맨시티의 2-0 승리로 끝났다. 이날 승리로 맨시티는 한 경기 덜 치른 첼시를 제치고 리그 선두 등극에 성공했다.</p>\\n\\n<p>사진 = Getty Images</p>\\n'"
      ]
     },
     "execution_count": 42,
     "metadata": {},
     "output_type": "execute_result"
    }
   ],
   "source": [
    "raw_df.loc[3327]['CONTENT']"
   ]
  },
  {
   "cell_type": "code",
   "execution_count": 44,
   "id": "e8db3f94",
   "metadata": {},
   "outputs": [],
   "source": [
    "df['CONTENT'] = df['CONTENT'].str.replace(\"'\", '', regex=True)"
   ]
  },
  {
   "cell_type": "code",
   "execution_count": 45,
   "id": "dfed3a9e",
   "metadata": {},
   "outputs": [
    {
     "data": {
      "text/plain": [
       "'<p>[골닷컴] 박문수 기자 = 맨체스터 시티(이하 맨시티)가 번리와의 맞대결에서 2-0으로 승리했다.</p>\\n\\n<p>맨시티는 16일 오후(한국시각) 에티하드 스타디움에서 열린 2021/2022시즌 프리미어리그 8라운드 번리와의 홈 경기에서 베르나르두 실바와 더 브라위너의 연속 득점에 힘입어 2-0으로 승리했다. 승점 3점을 챙긴 맨시티는 브렌트포드전을 앞둔 첼시를 제치고 리그 선두 등극에 성공했다.</p>\\n\\n\\n<p>과르디올라 감독은 4-3-3 포메이션을 들고 나왔다. 포든과 마레즈 그리고 스털링이 스리톱으로 나서면서, 로드리와 실바 그리고 더 브라위너가 중원에서 호흡을 맞췄다. 칸셀루와 스톤스 그리고 라포르테와 아케가 포백을, 스테펜이 골문을 지켰다. 참고로 이날 맨시티는 에데르송과 가브리엘 제주스가 브라질 대표팀 일정 소화 문제로 결장했다. 제로톱 자리에서 뛰었던 페란 토레스마저 부상 아웃된 상태였다.\\xa0</p>\\n\\n<p>이 대신 잇몸으로 나섰지만, 맨시티 전력은 탄탄했다. 공격진 구성에 애를 먹었지만, 중원에서부터 상대를 강하게 압박하며 흔들었고, 승점 3점 확보에 성공했다.</p>\\n\\n<p>선제 득점 주인공은 베르나르두 실바였다. 맨시티의 팀워크가 돋보인 장면이었다. 칸셀루와의 원투 패스에 이어 실바가 문전에 있던 포든에게 패스를 내줬다. 포든이 슈팅을 때렸지만, 포프 골키퍼에게 막혔다. 그러나 미처 공을 잡지 못했고, 이 틈을 타 실바가 가볍게 밀어 넣으며 포문을 열었다.\\xa0</p>\\n\\n<p>반격에 나선 번리는 전반 22분 결정적인 기회를 잡았지만, 쿠르네의 슈팅이 스테펜에 막히고 말았다. 추가 득점 사냥에 나선 맨시티는 전반 33분 마레즈가 결정적인 기회를 잡았지만, 슈팅이 골대 위로 벗어났다. 전반 40분에는 맨시티의 스털링이 감각적인 바이시클 슈팅으로 추가 득점을 노렸지만, 상대 수비진에 막혔다.</p>\\n\\n<hr style=color: #00ac77; width: 100%; background: #00ac77; border: 0; height: 2px; /><span><strong>주요 뉴스\\xa0 | </strong><a href=https://www.goal.com/kr/목록/a/1cn0mtpq1v74bzc7zbt6y0glm target=_blank> 토트넘 선수들의 연애 전선은?</a></span>\\n\\n<hr style=color: #00ac77; width: 100%; background: #00ac77; border: 0; height: 2px; />\\n<p>후반 5분에도 마레즈가 기회를 잡았지만, 이번에도 골문을 벗어났다. 후반 14분에도 다시 한 번 맨시티가 기회를 잡았지만, 라포르테의 슈팅이 골대 위로 향했다.</p>\\n\\n<p>그렇게 후반 25분 더 브라위너가 추가 득점에 성공했다. 문전 혼전 상황에서 페널티 박스 오른쪽에서 공을 잡은 더 브라위너가 강력한 왼발 슈팅으로 2-0을 만들었다.</p>\\n\\n<p>점수 차를 벌린 맨시티는 비교적 여유로운 경기 운용으로 리드를 지켰다. 번리 또한 반격을 노렸지만, 맨시티 골망을 흔들지 못했다. 그렇게 경기는 맨시티의 2-0 승리로 끝났다. 이날 승리로 맨시티는 한 경기 덜 치른 첼시를 제치고 리그 선두 등극에 성공했다.</p>\\n\\n<p>사진 = Getty Images</p>\\n'"
      ]
     },
     "execution_count": 45,
     "metadata": {},
     "output_type": "execute_result"
    }
   ],
   "source": [
    "df.loc[3327]['CONTENT']"
   ]
  },
  {
   "cell_type": "code",
   "execution_count": 38,
   "id": "feb89947",
   "metadata": {},
   "outputs": [
    {
     "name": "stdout",
     "output_type": "stream",
     "text": [
      "The original string is - \"python\"\n",
      "The converted string is - python\n"
     ]
    }
   ],
   "source": [
    "old_string= '\"python\"'\n",
    "\n",
    "new_string=old_string.replace('\"','')\n",
    "\n",
    "print(\"The original string is - {}\".format(old_string))\n",
    "print(\"The converted string is - {}\".format(new_string))"
   ]
  },
  {
   "cell_type": "code",
   "execution_count": null,
   "id": "5a65cd74",
   "metadata": {},
   "outputs": [],
   "source": [
    "from products.models import Product\n",
    "from products.serializers import *\n",
    "from rest_framework.renderers import JSONRenderer\n",
    "from rest_framework.parsers import JSONParser\n",
    "import io\n",
    "import datetime"
   ]
  },
  {
   "cell_type": "code",
   "execution_count": null,
   "id": "44c52526",
   "metadata": {},
   "outputs": [],
   "source": [
    "product = Product(title='aaa',uploader='aaa',description='aaa',total_funding=50000,one_times_funding=10000)"
   ]
  }
 ],
 "metadata": {
  "kernelspec": {
   "display_name": "Python 3 (ipykernel)",
   "language": "python",
   "name": "python3"
  },
  "language_info": {
   "codemirror_mode": {
    "name": "ipython",
    "version": 3
   },
   "file_extension": ".py",
   "mimetype": "text/x-python",
   "name": "python",
   "nbconvert_exporter": "python",
   "pygments_lexer": "ipython3",
   "version": "3.9.10"
  }
 },
 "nbformat": 4,
 "nbformat_minor": 5
}
