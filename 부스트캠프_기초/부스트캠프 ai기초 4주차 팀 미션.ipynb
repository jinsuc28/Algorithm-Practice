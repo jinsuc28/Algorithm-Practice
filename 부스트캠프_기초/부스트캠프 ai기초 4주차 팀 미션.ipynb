{
 "cells": [
  {
   "cell_type": "code",
   "execution_count": 168,
   "id": "b6eb6cfa",
   "metadata": {},
   "outputs": [],
   "source": [
    "import pandas as pd\n",
    "import numpy as np\n",
    "import matplotlib.pyplot as plt"
   ]
  },
  {
   "cell_type": "code",
   "execution_count": 25,
   "id": "c9bd71dd",
   "metadata": {},
   "outputs": [],
   "source": [
    "#문제1\n",
    "idx = [\"HDD\", 'SSD','USB','CLOUD']\n",
    "data = [19, 11, 5, 97]\n",
    "series = pd.Series(data=data,index=idx)\n",
    "series = series[series>=10][series<=20]\n",
    "print(series)"
   ]
  },
  {
   "cell_type": "code",
   "execution_count": 139,
   "id": "aa38ec4b",
   "metadata": {},
   "outputs": [
    {
     "name": "stdout",
     "output_type": "stream",
     "text": [
      "     Name   Type  Price\n",
      "7    kiwi  Fruit    120\n",
      "1   mango  Fruit    110\n",
      "0  cherry  Fruit    100\n",
      "6  banana  Fruit     90\n",
      "     Name       Type  Price\n",
      "3   onion  Vegetable     80\n",
      "5  carrot  Vegetable     70\n",
      "2  potato  Vegetable     60\n",
      "4  pepper  Vegetable     50\n",
      "Sum of Top 2 Fruit Price : 230\n",
      "Sum of Top 2 Vegetable Price : 150\n"
     ]
    }
   ],
   "source": [
    "# 문제2\n",
    "columns=['Name','Type','Price']\n",
    "df1 = pd.DataFrame(data=[['cherry','Fruit',100],['mango','Fruit',110],['potato','Vegetable',60],['onion','Vegetable',80]],columns=columns)\n",
    "df2 = pd.DataFrame(data=[['pepper','Vegetable',50],['carrot','Vegetable',70],['banana','Fruit',90],['kiwi','Fruit',120]],columns=columns)\n",
    "df =pd.concat([df1,df2],axis=0, ignore_index= True)\n",
    "df_fruit = df.loc[df['Type']=='Fruit'].sort_values(by='Price' ,ascending=False)\n",
    "df_vegetable = df.loc[df['Type']!='Fruit'].sort_values(by='Price', ascending=False)\n",
    "print(df_fruit)\n",
    "print(df_vegetable)\n",
    "\n",
    "print('Sum of Top 2 Fruit Price :',sum(df_fruit.head(2)['Price']))\n",
    "print('Sum of Top 2 Vegetable Price :',sum(df_vegetable.head(2)['Price']))"
   ]
  },
  {
   "cell_type": "code",
   "execution_count": 162,
   "id": "097d2233",
   "metadata": {},
   "outputs": [],
   "source": [
    "# 문제3\n",
    "idx =['Sue','Ryan','Jay','Jane','Anna']\n",
    "col =['round_1','round_2','round_3','round_4','round_5']\n",
    "data=[[55,65,60,66,57],\n",
    "     [64,77,71,79,67],\n",
    "     [88,81,79,89,77],\n",
    "     [45,35,30,46,47],\n",
    "     [91,96,90,97,99]]\n",
    "df= pd.DataFrame(data,index=idx,columns=col)\n",
    "col_round_6=[11,15,13,17,19]\n",
    "df['round_6']=col_round_6"
   ]
  },
  {
   "cell_type": "code",
   "execution_count": 167,
   "id": "1ef29c1d",
   "metadata": {},
   "outputs": [
    {
     "name": "stdout",
     "output_type": "stream",
     "text": [
      "      round_1  round_2  round_3  round_4  round_5  round_6\n",
      "Sue        55       65       60       66       57       11\n",
      "Ryan       64       77       71       79       67       15\n",
      "Jay        88       81       79       89       77       13\n",
      "Jane       45       35       30       46       47       17\n",
      "Anna       91       96       90       97       99       19\n"
     ]
    },
    {
     "data": {
      "text/html": [
       "<div>\n",
       "<style scoped>\n",
       "    .dataframe tbody tr th:only-of-type {\n",
       "        vertical-align: middle;\n",
       "    }\n",
       "\n",
       "    .dataframe tbody tr th {\n",
       "        vertical-align: top;\n",
       "    }\n",
       "\n",
       "    .dataframe thead th {\n",
       "        text-align: right;\n",
       "    }\n",
       "</style>\n",
       "<table border=\"1\" class=\"dataframe\">\n",
       "  <thead>\n",
       "    <tr style=\"text-align: right;\">\n",
       "      <th></th>\n",
       "      <th>round_1</th>\n",
       "      <th>round_2</th>\n",
       "      <th>round_3</th>\n",
       "      <th>round_4</th>\n",
       "      <th>round_5</th>\n",
       "      <th>round_6</th>\n",
       "    </tr>\n",
       "  </thead>\n",
       "  <tbody>\n",
       "    <tr>\n",
       "      <th>mean</th>\n",
       "      <td>68.6</td>\n",
       "      <td>70.8</td>\n",
       "      <td>66.0</td>\n",
       "      <td>75.4</td>\n",
       "      <td>69.4</td>\n",
       "      <td>15.0</td>\n",
       "    </tr>\n",
       "    <tr>\n",
       "      <th>max</th>\n",
       "      <td>91.0</td>\n",
       "      <td>96.0</td>\n",
       "      <td>90.0</td>\n",
       "      <td>97.0</td>\n",
       "      <td>99.0</td>\n",
       "      <td>19.0</td>\n",
       "    </tr>\n",
       "    <tr>\n",
       "      <th>min</th>\n",
       "      <td>45.0</td>\n",
       "      <td>35.0</td>\n",
       "      <td>30.0</td>\n",
       "      <td>46.0</td>\n",
       "      <td>47.0</td>\n",
       "      <td>11.0</td>\n",
       "    </tr>\n",
       "  </tbody>\n",
       "</table>\n",
       "</div>"
      ],
      "text/plain": [
       "      round_1  round_2  round_3  round_4  round_5  round_6\n",
       "mean     68.6     70.8     66.0     75.4     69.4     15.0\n",
       "max      91.0     96.0     90.0     97.0     99.0     19.0\n",
       "min      45.0     35.0     30.0     46.0     47.0     11.0"
      ]
     },
     "execution_count": 167,
     "metadata": {},
     "output_type": "execute_result"
    }
   ],
   "source": [
    "print(df)\n",
    "pd.DataFrame({'round_1':[df['round_1'].mean(),df['round_1'].max(),df['round_1'].min()],\n",
    "            'round_2':[df['round_2'].mean(),df['round_2'].max(),df['round_2'].min()],\n",
    "            'round_3':[df['round_3'].mean(),df['round_3'].max(),df['round_3'].min()],\n",
    "            'round_4':[df['round_4'].mean(),df['round_4'].max(),df['round_4'].min()],\n",
    "            'round_5':[df['round_5'].mean(),df['round_5'].max(),df['round_5'].min()],\n",
    "            'round_6':[df['round_6'].mean(),df['round_6'].max(),df['round_6'].min()]},\n",
    "            index=['mean','max','min'])\n",
    "\n",
    "# print(df.describe().loc[['mean','max','min']]) 훨씬 편하네요.."
   ]
  },
  {
   "cell_type": "code",
   "execution_count": 189,
   "id": "3770c4fc",
   "metadata": {},
   "outputs": [
    {
     "data": {
      "image/png": "[encoded data removed]",
      "text/plain": [
       "<Figure size 432x288 with 1 Axes>"
      ]
     },
     "metadata": {
      "needs_background": "light"
     },
     "output_type": "display_data"
    }
   ],
   "source": [
    "#문제4\n",
    "\n",
    "t = np.arange(0.,5.,0.2)\n",
    "\n",
    "plt.plot(t,t, 'r--',t,t**2,'gs', t,t**3,'b^')\n",
    "plt.show()"
   ]
  },
  {
   "cell_type": "code",
   "execution_count": 217,
   "id": "9cd90366",
   "metadata": {},
   "outputs": [
    {
     "data": {
      "image/png": "[encoded data removed]",
      "text/plain": [
       "<Figure size 648x216 with 3 Axes>"
      ]
     },
     "metadata": {
      "needs_background": "light"
     },
     "output_type": "display_data"
    }
   ],
   "source": [
    "#문제5\n",
    "\n",
    "name=['group_a','group_b','group_c']\n",
    "values=[1,10,100]\n",
    "\n",
    "plt.figure(figsize=(9,3)) #전체 크기 정하기\n",
    "plt.subplot(1,3,1) #1번\n",
    "plt.bar(name,values)\n",
    "plt.subplot(1,3,2) #2번\n",
    "plt.scatter(name,values)\n",
    "plt.subplot(1,3,3) # 3번\n",
    "plt.plot(name,values)\n",
    "plt.show()"
   ]
  }
 ],
 "metadata": {
  "kernelspec": {
   "display_name": "Python [conda env:tf25] *",
   "language": "python",
   "name": "conda-env-tf25-py"
  },
  "language_info": {
   "codemirror_mode": {
    "name": "ipython",
    "version": 3
   },
   "file_extension": ".py",
   "mimetype": "text/x-python",
   "name": "python",
   "nbconvert_exporter": "python",
   "pygments_lexer": "ipython3",
   "version": "3.9.0"
  }
 },
 "nbformat": 4,
 "nbformat_minor": 5
}
