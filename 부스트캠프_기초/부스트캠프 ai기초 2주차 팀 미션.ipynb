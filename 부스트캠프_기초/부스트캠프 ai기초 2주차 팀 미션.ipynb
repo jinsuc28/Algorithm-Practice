{
 "cells": [
  {
   "cell_type": "code",
   "execution_count": 1,
   "id": "e1b281cd",
   "metadata": {},
   "outputs": [],
   "source": [
    "## 1번\n",
    "class Score():\n",
    "    def __init__(self,mid,final):\n",
    "        self.mid = mid\n",
    "        self.final = final\n",
    "    \n",
    "    def mid(self, mid):\n",
    "        return mid\n",
    "    def final(self, final):\n",
    "        return final"
   ]
  },
  {
   "cell_type": "code",
   "execution_count": 3,
   "id": "e0eb738c",
   "metadata": {},
   "outputs": [
    {
     "name": "stdout",
     "output_type": "stream",
     "text": [
      "62.5\n"
     ]
    }
   ],
   "source": [
    "score = Score(50,75)\n",
    "print((score.mid + score.final)/2)"
   ]
  },
  {
   "cell_type": "code",
   "execution_count": 6,
   "id": "b4561bd9",
   "metadata": {},
   "outputs": [],
   "source": [
    "## 2번\n",
    "\n",
    "class Car():\n",
    "    def __init__(self, fuel, wheels, size):\n",
    "        self.fuel = fuel\n",
    "        self.wheels = wheels\n",
    "        self.size = size\n",
    "    def fuel(self, fuel=str):\n",
    "        return fuel\n",
    "    def wheels(self, wheels=int):\n",
    "        return wheels\n",
    "    \n",
    "class Bike(Car):\n",
    "    def size(self, size=str):\n",
    "        return size"
   ]
  },
  {
   "cell_type": "code",
   "execution_count": 7,
   "id": "1092e3c7",
   "metadata": {},
   "outputs": [
    {
     "name": "stdout",
     "output_type": "stream",
     "text": [
      "gas 2 small\n"
     ]
    }
   ],
   "source": [
    "bike = Bike(\"gas\", 2, \"small\")\n",
    "print(bike.fuel, bike.wheels, bike.size)"
   ]
  },
  {
   "cell_type": "code",
   "execution_count": 97,
   "id": "5b6f3507",
   "metadata": {},
   "outputs": [
    {
     "name": "stdout",
     "output_type": "stream",
     "text": [
      "[['73', '80', '75', '152'], ['93', '88', '93', '185'], ['89', '91', '90', '180'], ['96', '98', '100', '196'], ['73', '66', '70', '142'], ['53', '46', '55', '101'], ['69', '74', '77', '149'], ['47', '56', '60', '115'], ['87', '79', '90', '175'], ['79', '70', '88', '164'], ['69', '70', '73', '141'], ['70', '65', '74', '141'], ['93', '95', '91', '184'], ['79', '80', '73', '152'], ['70', '73', '78', '148'], ['93', '89', '96', '192'], ['78', '75', '68', '147'], ['81', '90', '93', '183'], ['88', '92', '86', '177'], ['78', '83', '77', '159'], ['82', '86', '90', '177'], ['86', '82', '89', '175'], ['78', '83', '85', '175'], ['76', '83', '71', '149'], ['96', '93', '95', '192']]\n"
     ]
    }
   ],
   "source": [
    "## 3번\n",
    "\n",
    "file_path = \"./data-01-test-score.csv\"\n",
    "\n",
    "class ReadCSV():\n",
    "    def __init__(self, file_path):\n",
    "        self.file_path = file_path\n",
    "        \n",
    "        \n",
    "    def read_file(self):\n",
    "        flie_list=[]\n",
    "        with open(self.file_path,\"r\") as read_csv:\n",
    "            csv = read_csv.read().split()\n",
    "            for i in csv:\n",
    "                flie_list.append(i.split(\",\"))\n",
    "        return flie_list\n",
    "    \n",
    "read_csv = ReadCSV(file_path)\n",
    "print(read_csv.read_file())"
   ]
  },
  {
   "cell_type": "code",
   "execution_count": 115,
   "id": "2131fe9e",
   "metadata": {},
   "outputs": [
    {
     "name": "stdout",
     "output_type": "stream",
     "text": [
      "[[73, 80, 75, 152], [93, 88, 93, 185], [89, 91, 90, 180], [96, 98, 100, 196], [73, 66, 70, 142], [53, 46, 55, 101], [69, 74, 77, 149], [47, 56, 60, 115], [87, 79, 90, 175], [79, 70, 88, 164], [69, 70, 73, 141], [70, 65, 74, 141], [93, 95, 91, 184], [79, 80, 73, 152], [70, 73, 78, 148], [93, 89, 96, 192], [78, 75, 68, 147], [81, 90, 93, 183], [88, 92, 86, 177], [78, 83, 77, 159], [82, 86, 90, 177], [86, 82, 89, 175], [78, 83, 85, 175], [76, 83, 71, 149], [96, 93, 95, 192]]\n",
      "[380, 459, 450, 490, 351, 255, 369, 278, 431, 401, 353, 350, 463, 384, 369, 470, 368, 447, 443, 397, 435, 432, 421, 379, 476]\n"
     ]
    }
   ],
   "source": [
    "##4번\n",
    "\n",
    "file_path = \"./data-01-test-score.csv\"\n",
    "\n",
    "class ReadCSV():\n",
    "    def __init__(self, file_path):\n",
    "        self.file_path = file_path\n",
    "        \n",
    "        \n",
    "    def read_file(self):\n",
    "        flie_list=[]\n",
    "        with open(self.file_path,\"r\") as read_csv:\n",
    "            csv = read_csv.read().split()\n",
    "            for i in csv:\n",
    "                flie_list.append(list(map(int, i.split(\",\"))))\n",
    "        return flie_list\n",
    "    \n",
    "    def merge_list(self):\n",
    "        flie_list=[]\n",
    "        with open(self.file_path,\"r\") as read_csv:\n",
    "            csv = read_csv.read().split()\n",
    "            for i in csv:\n",
    "                flie_list.append(list(map(int, i.split(\",\"))))\n",
    "        merge_list=[]\n",
    "        for i in flie_list:\n",
    "            merge_list.append(sum(i))\n",
    "        return merge_list\n",
    "read_csv = ReadCSV(file_path)\n",
    "print(read_csv.read_file())\n",
    "print(read_csv.merge_list())"
   ]
  },
  {
   "cell_type": "code",
   "execution_count": 128,
   "id": "7a6532bd",
   "metadata": {},
   "outputs": [
    {
     "name": "stdout",
     "output_type": "stream",
     "text": [
      "[63.75, 69.5, 87.5, 87.75, 88.25, 92.0, 92.25, 92.25, 94.75, 95.0, 96.0, 99.25, 100.25, 105.25, 107.75, 108.0, 108.75, 110.75, 111.75, 112.5, 114.75, 115.75, 117.5, 119.0, 122.5]\n"
     ]
    }
   ],
   "source": [
    "##5번\n",
    "\n",
    "file_path = \"./data-01-test-score.csv\"\n",
    "\n",
    "class ReadCSV():\n",
    "    def __init__(self, file_path):\n",
    "        self.file_path = file_path\n",
    "        \n",
    "        \n",
    "    def read_file(self):\n",
    "        flie_list=[]\n",
    "        with open(self.file_path,\"r\") as read_csv:\n",
    "            csv = read_csv.read().split()\n",
    "            for i in csv:\n",
    "                flie_list.append(list(map(int, i.split(\",\"))))\n",
    "        return flie_list\n",
    "    \n",
    "    def merge_list(self):\n",
    "        flie_list=[]\n",
    "        with open(self.file_path,\"r\") as read_csv:\n",
    "            csv = read_csv.read().split()\n",
    "            for i in csv:\n",
    "                flie_list.append(list(map(int, i.split(\",\"))))\n",
    "        merge_list=[]\n",
    "        for i in flie_list:\n",
    "            merge_list.append(sum(i)/len(i))\n",
    "            merge_list.sort()\n",
    "        return merge_list\n",
    "    \n",
    "read_csv = ReadCSV(file_path)\n",
    "print(read_csv.read_file())\n",
    "print(read_csv.merge_list())"
   ]
  },
  {
   "cell_type": "code",
   "execution_count": 64,
   "id": "e311190f",
   "metadata": {},
   "outputs": [
    {
     "data": {
      "text/plain": [
       "'./data-01-test-score.csv'"
      ]
     },
     "execution_count": 64,
     "metadata": {},
     "output_type": "execute_result"
    }
   ],
   "source": [
    "file_path"
   ]
  },
  {
   "cell_type": "code",
   "execution_count": 33,
   "id": "f6d6cfaa",
   "metadata": {},
   "outputs": [
    {
     "ename": "TypeError",
     "evalue": "read_file() missing 1 required positional argument: 'file_path'",
     "output_type": "error",
     "traceback": [
      "\u001b[0;31m---------------------------------------------------------------------------\u001b[0m",
      "\u001b[0;31mTypeError\u001b[0m                                 Traceback (most recent call last)",
      "\u001b[0;32m<ipython-input-33-cd58562fe8ed>\u001b[0m in \u001b[0;36m<module>\u001b[0;34m\u001b[0m\n\u001b[0;32m----> 1\u001b[0;31m \u001b[0mReadCSV\u001b[0m\u001b[0;34m.\u001b[0m\u001b[0mread_file\u001b[0m\u001b[0;34m(\u001b[0m\u001b[0mfile_path\u001b[0m\u001b[0;34m)\u001b[0m\u001b[0;34m\u001b[0m\u001b[0;34m\u001b[0m\u001b[0m\n\u001b[0m",
      "\u001b[0;31mTypeError\u001b[0m: read_file() missing 1 required positional argument: 'file_path'"
     ]
    }
   ],
   "source": [
    "contents = my_file.read()\n",
    "word_list = contents.split(\" \")\n",
    "#빈칸 기준으로 단어를 분리 리스트\n",
    "line_list = contents.split(\"\\n\")\n",
    "#한줄 씩 분리하여 리스트"
   ]
  },
  {
   "cell_type": "code",
   "execution_count": 17,
   "id": "2fd2d0e1",
   "metadata": {},
   "outputs": [
    {
     "ename": "AttributeError",
     "evalue": "'_io.TextIOWrapper' object has no attribute 'replace'",
     "output_type": "error",
     "traceback": [
      "\u001b[0;31m---------------------------------------------------------------------------\u001b[0m",
      "\u001b[0;31mAttributeError\u001b[0m                            Traceback (most recent call last)",
      "\u001b[0;32m<ipython-input-17-f25711af185b>\u001b[0m in \u001b[0;36m<module>\u001b[0;34m\u001b[0m\n\u001b[1;32m      1\u001b[0m \u001b[0;32mwith\u001b[0m \u001b[0mopen\u001b[0m\u001b[0;34m(\u001b[0m\u001b[0mfile_path\u001b[0m\u001b[0;34m,\u001b[0m\u001b[0;34m\"r\"\u001b[0m\u001b[0;34m)\u001b[0m \u001b[0;32mas\u001b[0m \u001b[0mread_csv\u001b[0m\u001b[0;34m:\u001b[0m\u001b[0;34m\u001b[0m\u001b[0;34m\u001b[0m\u001b[0m\n\u001b[0;32m----> 2\u001b[0;31m     \u001b[0ma\u001b[0m \u001b[0;34m=\u001b[0m \u001b[0mread_csv\u001b[0m\u001b[0;34m.\u001b[0m\u001b[0mreplace\u001b[0m\u001b[0;34m(\u001b[0m\u001b[0;34m\"\\n\"\u001b[0m\u001b[0;34m,\u001b[0m\u001b[0;34m\"\"\u001b[0m\u001b[0;34m)\u001b[0m\u001b[0;34m.\u001b[0m\u001b[0mreadlines\u001b[0m\u001b[0;34m(\u001b[0m\u001b[0;34m)\u001b[0m\u001b[0;34m\u001b[0m\u001b[0;34m\u001b[0m\u001b[0m\n\u001b[0m",
      "\u001b[0;31mAttributeError\u001b[0m: '_io.TextIOWrapper' object has no attribute 'replace'"
     ]
    }
   ],
   "source": [
    "with open(file_path,\"r\") as read_csv:\n",
    "    a = read_csv.readlines()\n",
    "    .replace(\"\\n\",\"\")"
   ]
  },
  {
   "cell_type": "code",
   "execution_count": 13,
   "id": "256e0e06",
   "metadata": {},
   "outputs": [
    {
     "data": {
      "text/plain": [
       "['73,80,75,152\\n',\n",
       " '93,88,93,185\\n',\n",
       " '89,91,90,180\\n',\n",
       " '96,98,100,196\\n',\n",
       " '73,66,70,142\\n',\n",
       " '53,46,55,101\\n',\n",
       " '69,74,77,149\\n',\n",
       " '47,56,60,115\\n',\n",
       " '87,79,90,175\\n',\n",
       " '79,70,88,164\\n',\n",
       " '69,70,73,141\\n',\n",
       " '70,65,74,141\\n',\n",
       " '93,95,91,184\\n',\n",
       " '79,80,73,152\\n',\n",
       " '70,73,78,148\\n',\n",
       " '93,89,96,192\\n',\n",
       " '78,75,68,147\\n',\n",
       " '81,90,93,183\\n',\n",
       " '88,92,86,177\\n',\n",
       " '78,83,77,159\\n',\n",
       " '82,86,90,177\\n',\n",
       " '86,82,89,175\\n',\n",
       " '78,83,85,175\\n',\n",
       " '76,83,71,149\\n',\n",
       " '96,93,95,192']"
      ]
     },
     "execution_count": 13,
     "metadata": {},
     "output_type": "execute_result"
    }
   ],
   "source": [
    "a"
   ]
  },
  {
   "cell_type": "code",
   "execution_count": 38,
   "id": "36db51a8",
   "metadata": {},
   "outputs": [
    {
     "name": "stdout",
     "output_type": "stream",
     "text": [
      "73,80,75,152\n",
      "93,88,93,185\n",
      "89,91,90,180\n",
      "96,98,100,196\n",
      "73,66,70,142\n",
      "53,46,55,101\n",
      "69,74,77,149\n",
      "47,56,60,115\n",
      "87,79,90,175\n",
      "79,70,88,164\n",
      "69,70,73,141\n",
      "70,65,74,141\n",
      "93,95,91,184\n",
      "79,80,73,152\n",
      "70,73,78,148\n",
      "93,89,96,192\n",
      "78,75,68,147\n",
      "81,90,93,183\n",
      "88,92,86,177\n",
      "78,83,77,159\n",
      "82,86,90,177\n",
      "86,82,89,175\n",
      "78,83,85,175\n",
      "76,83,71,149\n",
      "96,93,95,192\n"
     ]
    }
   ],
   "source": [
    "with open(file_path, \"r\") as my_file:\n",
    "    i = 0\n",
    "    while True:\n",
    "        line = my_file.readline()\n",
    "        if not line:\n",
    "            break\n",
    "        print(line.replace(\"\\n\",\"\")) #한줄씩 값 출력\n",
    "        i = i + 1"
   ]
  },
  {
   "cell_type": "code",
   "execution_count": 37,
   "id": "22bbf699",
   "metadata": {},
   "outputs": [
    {
     "data": {
      "text/plain": [
       "'96,93,95,192'"
      ]
     },
     "execution_count": 37,
     "metadata": {},
     "output_type": "execute_result"
    }
   ],
   "source": [
    "a"
   ]
  },
  {
   "cell_type": "code",
   "execution_count": 3,
   "id": "de01b379",
   "metadata": {},
   "outputs": [
    {
     "name": "stdout",
     "output_type": "stream",
     "text": [
      "4368329888\n",
      "hello, world\n",
      "4314481536\n"
     ]
    }
   ],
   "source": [
    "def print_msg(msg):\n",
    "    def printer():\n",
    "        print(msg)\n",
    "    return printer\n",
    "\n",
    "another = print_msg(\"hello, world\")\n",
    "print(id(another))\n",
    "print(id(another()))        \n",
    "    "
   ]
  },
  {
   "cell_type": "code",
   "execution_count": null,
   "id": "1d6a4883",
   "metadata": {},
   "outputs": [],
   "source": []
  }
 ],
 "metadata": {
  "kernelspec": {
   "display_name": "Python [conda env:tf25] *",
   "language": "python",
   "name": "conda-env-tf25-py"
  },
  "language_info": {
   "codemirror_mode": {
    "name": "ipython",
    "version": 3
   },
   "file_extension": ".py",
   "mimetype": "text/x-python",
   "name": "python",
   "nbconvert_exporter": "python",
   "pygments_lexer": "ipython3",
   "version": "3.9.0"
  }
 },
 "nbformat": 4,
 "nbformat_minor": 5
}
