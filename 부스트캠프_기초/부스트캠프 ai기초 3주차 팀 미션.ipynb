{
 "cells": [
  {
   "cell_type": "code",
   "execution_count": 1,
   "id": "36343a37",
   "metadata": {},
   "outputs": [],
   "source": [
    "import numpy as np"
   ]
  },
  {
   "cell_type": "code",
   "execution_count": 2,
   "id": "0cf0f10b",
   "metadata": {},
   "outputs": [
    {
     "name": "stdout",
     "output_type": "stream",
     "text": [
      "[[0.36075075 0.60840331]\n",
      " [0.29223437 0.62459714]\n",
      " [0.36362706 0.39139762]\n",
      " [0.09360953 0.49162107]\n",
      " [0.13148239 0.53499772]] (5, 2)\n"
     ]
    }
   ],
   "source": [
    "# 1번 문제\n",
    "\n",
    "## 균등분포식으로 size 각각 15, 6개 매트릭스를 만들고 reshape(-1,)으로 각각 적용\n",
    "arr1 = np.random.uniform(0,1,15).reshape(-1,3)\n",
    "arr2 = np.random.uniform(0,1,6).reshape(-1,2)\n",
    "\n",
    "dot = arr1@arr2\n",
    "\n",
    "## 행렬연산은 dot말고 @로도 표현 가능\n",
    "\n",
    "print(dot,dot.shape)"
   ]
  },
  {
   "cell_type": "code",
   "execution_count": 3,
   "id": "1e24cb87",
   "metadata": {},
   "outputs": [
    {
     "name": "stdout",
     "output_type": "stream",
     "text": [
      "[[ 5.  7.]\n",
      " [ 9. 11.]\n",
      " [ 2.  4.]\n",
      " [ 6.  8.]]\n",
      "[[ 5.  7.  2.  4.]\n",
      " [ 9. 11.  6.  8.]]\n"
     ]
    }
   ],
   "source": [
    "# 2번 문제\n",
    "\n",
    "arr1 = np.array([[5,7],[9,11]], float)\n",
    "arr2 = np.array([[2,4],[6,8]], float)\n",
    "# dtype을 지정하지 않으면 자동으로 int64로 적용됩니다.\n",
    "\n",
    "concat_1 = print(np.concatenate((arr1,arr2),axis=0))\n",
    "concat_2 = print(np.concatenate((arr1,arr2),axis=1))"
   ]
  },
  {
   "cell_type": "code",
   "execution_count": 4,
   "id": "692edcad",
   "metadata": {},
   "outputs": [
    {
     "name": "stdout",
     "output_type": "stream",
     "text": [
      "[1. 2. 3. 4. 5. 6.] (6,)\n",
      "[10. 20. 30. 40. 50. 60.] (6,)\n"
     ]
    }
   ],
   "source": [
    "# 3번 문제\n",
    "xy= np.array([[1, 2, 3, 4, 5, 6],[10, 20, 30, 40, 50, 60]], float)\n",
    "x_train=xy[0,:]\n",
    "y_train=xy[1,:]\n",
    "\n",
    "print(x_train, x_train.shape)\n",
    "print(y_train, y_train.shape)"
   ]
  },
  {
   "cell_type": "code",
   "execution_count": 5,
   "id": "b279cfff",
   "metadata": {},
   "outputs": [],
   "source": [
    "#4번 문제"
   ]
  },
  {
   "cell_type": "code",
   "execution_count": 8,
   "id": "e1f5f93f",
   "metadata": {},
   "outputs": [
    {
     "data": {
      "text/plain": [
       "(2, 3)"
      ]
     },
     "execution_count": 8,
     "metadata": {},
     "output_type": "execute_result"
    }
   ],
   "source": [
    "arr3=np.array([[1,1,1],[2,2,2]])\n",
    "arr3.shape"
   ]
  },
  {
   "cell_type": "code",
   "execution_count": null,
   "id": "bdb1711b",
   "metadata": {},
   "outputs": [],
   "source": []
  }
 ],
 "metadata": {
  "kernelspec": {
   "display_name": "Python [conda env:tf25] *",
   "language": "python",
   "name": "conda-env-tf25-py"
  },
  "language_info": {
   "codemirror_mode": {
    "name": "ipython",
    "version": 3
   },
   "file_extension": ".py",
   "mimetype": "text/x-python",
   "name": "python",
   "nbconvert_exporter": "python",
   "pygments_lexer": "ipython3",
   "version": "3.9.0"
  }
 },
 "nbformat": 4,
 "nbformat_minor": 5
}
