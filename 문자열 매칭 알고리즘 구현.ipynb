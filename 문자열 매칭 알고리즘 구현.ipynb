{
 "cells": [
  {
   "cell_type": "markdown",
   "id": "3033ed58",
   "metadata": {},
   "source": [
    "# 1번"
   ]
  },
  {
   "cell_type": "code",
   "execution_count": 1,
   "id": "0634aabf",
   "metadata": {},
   "outputs": [],
   "source": [
    "N,S = 9, ['aaa','aaaabb','aabbcc','abb','bcc','bbcc','aabbccdd','aaabb','cccd']\n",
    "Q,word =2,['aaaabbaabbccdd','aaaabbaabbccdd']"
   ]
  },
  {
   "cell_type": "code",
   "execution_count": 2,
   "id": "21390336",
   "metadata": {},
   "outputs": [
    {
     "data": {
      "text/plain": [
       "[['YES', 'YES', 'YES', 'YES', 'YES', 'YES', 'YES', 'YES', 'NO'],\n",
       " ['YES', 'YES', 'YES', 'YES', 'YES', 'YES', 'YES', 'YES', 'NO']]"
      ]
     },
     "execution_count": 2,
     "metadata": {},
     "output_type": "execute_result"
    }
   ],
   "source": [
    "answer= [[0 for i in range(N)] for q in range(Q)]\n",
    "\n",
    "for q in range(Q):\n",
    "    for i,s in enumerate(S):\n",
    "        if s in word[q]:\n",
    "            answer[q][i]='YES'\n",
    "        else:\n",
    "            answer[q][i]='NO'\n",
    "answer"
   ]
  },
  {
   "cell_type": "markdown",
   "id": "4e23dfed",
   "metadata": {},
   "source": [
    "# 2번"
   ]
  },
  {
   "cell_type": "code",
   "execution_count": 7,
   "id": "ce0e07f1",
   "metadata": {},
   "outputs": [],
   "source": [
    "N,S = 9, ['aaa','aaaabb','aabbcc','abb','bcc','bbcc','aabbccdd','aaabb','cccd']\n",
    "Q,string =2,['aaaabbaabbccdd','aaaabbaabbccdd']"
   ]
  },
  {
   "cell_type": "markdown",
   "id": "7dc27a5b",
   "metadata": {},
   "source": [
    "# 3번"
   ]
  },
  {
   "cell_type": "code",
   "execution_count": 119,
   "id": "de195ece",
   "metadata": {},
   "outputs": [],
   "source": [
    "# KMP 알고리즘을 수행하기 전, 패턴을 처리하는 함수\n",
    "# 패턴의 테이블 생성\n",
    "def KMP_table(pattern):\n",
    "    lp = len(pattern)\n",
    "    tb = [0 for _ in range(lp)] # 정보 저장용 테이블\n",
    "    \n",
    "    pidx = 0 # 테이블의 값을 불러오고, 패턴의 인덱스에 접근\n",
    "    for idx in range(1, lp): # 테이블에 값 저장하기 위해 활용하는 인덱스\n",
    "        # pidx가 0이 되거나, idx와 pidx의 pattern 접근 값이 같아질때까지 진행\n",
    "        while pidx > 0 and pattern[idx] != pattern[pidx]:\n",
    "            pidx = tb[pidx-1]\n",
    "        \n",
    "        # 값이 일치하는 경우, pidx 1 증가시키고 그 값을 tb에 저장\n",
    "        if pattern[idx] == pattern[pidx] :\n",
    "            pidx += 1\n",
    "            tb[idx] = pidx\n",
    "    return tb\n",
    "\n",
    "def KMP(word, pattern):\n",
    "    # KMP_table 통해 전처리된 테이블 불러오기\n",
    "    table = KMP_table(pattern)\n",
    "    \n",
    "    results = [] # 결과를 만족하는 인덱스 시점을 기록하는 리스트\n",
    "    pidx = 0\n",
    "    \n",
    "    for idx in range(len(word)):\n",
    "        # 단어와 패턴이 일치하지 않는 경우, pidx를 table을 활용해 값 변경\n",
    "        while pidx > 0 and word[idx] != pattern[pidx] :\n",
    "            pidx = table[pidx-1]\n",
    "        # 해당 인덱스에서 값이 일치한다면, pidx를 1 증가시킴\n",
    "        # 만약 pidx가 패턴의 끝까지 도달하였다면, 시작 인덱스 값을 계산하여 추가 후 pidx 값 table의 인덱스에 접근하여 변경\n",
    "        if word[idx] == pattern[pidx]:\n",
    "            if pidx == len(pattern)-1 :\n",
    "                results.append(idx-len(pattern)+2)\n",
    "                pidx = table[pidx]\n",
    "            else:\n",
    "                pidx += 1\n",
    "    \n",
    "    return results\n",
    "\n",
    "def total(N,S,Q,word):\n",
    "    result=[[] for i in range(Q)] #word 수 Q만큼 리스트를 만듬\n",
    "    for q in range(Q):\n",
    "        print(f\"\\n {q} word {S[q]}\"+\"\\n\") #매칭할 word 출력\n",
    "        for i in range(N):\n",
    "            result[q].append(KMP(word[q],S[i])) #word 와 매칭된 pattern idx를 result에 입력\n",
    "            for a in range(len(result[q][i])):\n",
    "                print(f'##POS ={result[q][i][a]}, pattern = {S[i]}') #pos와 pattern 출력"
   ]
  },
  {
   "cell_type": "code",
   "execution_count": 123,
   "id": "f96cc40a",
   "metadata": {},
   "outputs": [],
   "source": [
    "N,S = 9, ['aaa','aaaabb','aabbcc','abb','bcc','bbcc','aabbccdd','aaabb','ccdd']\n",
    "Q,word =3,['aaaabbaabbccdd','aaaabbaabbccdd','aaaabbaabbccdd']"
   ]
  },
  {
   "cell_type": "code",
   "execution_count": 125,
   "id": "64ad52c6",
   "metadata": {},
   "outputs": [
    {
     "name": "stdout",
     "output_type": "stream",
     "text": [
      "\n",
      " 0 word aaa\n",
      "\n",
      "##POS =1, pattern = aaa\n",
      "##POS =2, pattern = aaa\n",
      "##POS =1, pattern = aaaabb\n",
      "##POS =7, pattern = aabbcc\n",
      "##POS =4, pattern = abb\n",
      "##POS =8, pattern = abb\n",
      "##POS =10, pattern = bcc\n",
      "##POS =9, pattern = bbcc\n",
      "##POS =7, pattern = aabbccdd\n",
      "##POS =2, pattern = aaabb\n",
      "##POS =11, pattern = ccdd\n",
      "\n",
      " 1 word aaaabb\n",
      "\n",
      "##POS =1, pattern = aaa\n",
      "##POS =2, pattern = aaa\n",
      "##POS =1, pattern = aaaabb\n",
      "##POS =7, pattern = aabbcc\n",
      "##POS =4, pattern = abb\n",
      "##POS =8, pattern = abb\n",
      "##POS =10, pattern = bcc\n",
      "##POS =9, pattern = bbcc\n",
      "##POS =7, pattern = aabbccdd\n",
      "##POS =2, pattern = aaabb\n",
      "##POS =11, pattern = ccdd\n",
      "\n",
      " 2 word aabbcc\n",
      "\n",
      "##POS =1, pattern = aaa\n",
      "##POS =2, pattern = aaa\n",
      "##POS =1, pattern = aaaabb\n",
      "##POS =7, pattern = aabbcc\n",
      "##POS =4, pattern = abb\n",
      "##POS =8, pattern = abb\n",
      "##POS =10, pattern = bcc\n",
      "##POS =9, pattern = bbcc\n",
      "##POS =7, pattern = aabbccdd\n",
      "##POS =2, pattern = aaabb\n",
      "##POS =11, pattern = ccdd\n"
     ]
    }
   ],
   "source": [
    "total(N,S,Q,word)"
   ]
  },
  {
   "cell_type": "code",
   "execution_count": null,
   "id": "854e56a4",
   "metadata": {},
   "outputs": [],
   "source": []
  },
  {
   "cell_type": "code",
   "execution_count": null,
   "id": "c892c08a",
   "metadata": {},
   "outputs": [],
   "source": []
  }
 ],
 "metadata": {
  "kernelspec": {
   "display_name": "Python [conda env:tf25] *",
   "language": "python",
   "name": "conda-env-tf25-py"
  },
  "language_info": {
   "codemirror_mode": {
    "name": "ipython",
    "version": 3
   },
   "file_extension": ".py",
   "mimetype": "text/x-python",
   "name": "python",
   "nbconvert_exporter": "python",
   "pygments_lexer": "ipython3",
   "version": "3.9.0"
  }
 },
 "nbformat": 4,
 "nbformat_minor": 5
}
