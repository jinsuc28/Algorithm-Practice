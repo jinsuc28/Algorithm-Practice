{
 "cells": [
  {
   "cell_type": "code",
   "execution_count": 6,
   "id": "21e3981f",
   "metadata": {},
   "outputs": [
    {
     "ename": "SyntaxError",
     "evalue": "'return' outside function (<ipython-input-6-c0f364275eb3>, line 15)",
     "output_type": "error",
     "traceback": [
      "\u001b[0;36m  File \u001b[0;32m\"<ipython-input-6-c0f364275eb3>\"\u001b[0;36m, line \u001b[0;32m15\u001b[0m\n\u001b[0;31m    return count\u001b[0m\n\u001b[0m    ^\u001b[0m\n\u001b[0;31mSyntaxError\u001b[0m\u001b[0;31m:\u001b[0m 'return' outside function\n"
     ]
    }
   ],
   "source": [
    "import sys\n",
    "# N,k= map(int, sys.stdin.readline().split())\n",
    "\n",
    "N=5\n",
    "coin = [1,5,10,50,100,500,1000,5000,10000,50000]\n",
    "coin = [ i for i in coin[:N]]\n",
    "\n",
    "count = 0\n",
    "for i in coin[::-1]:\n",
    "    if K!=0:\n",
    "        count+= K//coin[i]\n",
    "        K = K%coin\n",
    "    else:\n",
    "        pass\n",
    "    return count"
   ]
  },
  {
   "cell_type": "code",
   "execution_count": 11,
   "id": "d3958dc7",
   "metadata": {},
   "outputs": [
    {
     "name": "stdout",
     "output_type": "stream",
     "text": [
      "6\n"
     ]
    }
   ],
   "source": [
    "import sys\n",
    "# N,K = map(int,sys.stdin.readline().split())\n",
    "\n",
    "coin = [1,5,10,50,100,500,1000,5000,10000,50000]\n",
    "coin = [i for i in coin[:N]]\n",
    "\n",
    "count = 0\n",
    "for i in coin[::-1]:\n",
    "    if K!=0:\n",
    "        count+= K//i\n",
    "        K = K%i\n",
    "    else:\n",
    "        pass\n",
    "print(count)"
   ]
  },
  {
   "cell_type": "code",
   "execution_count": 18,
   "id": "8310b022",
   "metadata": {},
   "outputs": [
    {
     "name": "stdout",
     "output_type": "stream",
     "text": [
      "[]\n"
     ]
    }
   ],
   "source": [
    "import sys\n",
    "nums = []\n",
    "for line in sys.stdin:\n",
    "    nums.append(line)\n",
    "print(nums)"
   ]
  },
  {
   "cell_type": "code",
   "execution_count": null,
   "id": "a3780118",
   "metadata": {},
   "outputs": [],
   "source": [
    "N = sys.stdin.readline(\"10 4200\")"
   ]
  },
  {
   "cell_type": "code",
   "execution_count": null,
   "id": "22aa23df",
   "metadata": {},
   "outputs": [],
   "source": []
  }
 ],
 "metadata": {
  "kernelspec": {
   "display_name": "Python [conda env:tf25] *",
   "language": "python",
   "name": "conda-env-tf25-py"
  },
  "language_info": {
   "codemirror_mode": {
    "name": "ipython",
    "version": 3
   },
   "file_extension": ".py",
   "mimetype": "text/x-python",
   "name": "python",
   "nbconvert_exporter": "python",
   "pygments_lexer": "ipython3",
   "version": "3.9.0"
  }
 },
 "nbformat": 4,
 "nbformat_minor": 5
}
