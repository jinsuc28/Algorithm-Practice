{
 "cells": [
  {
   "cell_type": "code",
   "execution_count": 52,
   "id": "51f2f482",
   "metadata": {},
   "outputs": [
    {
     "name": "stdout",
     "output_type": "stream",
     "text": [
      "5\n",
      "3 3 1 2 4 5\n"
     ]
    }
   ],
   "source": [
    "N = int(input())\n",
    "time = list(map(int, input().split()))\n"
   ]
  },
  {
   "cell_type": "code",
   "execution_count": 53,
   "id": "30bf2358",
   "metadata": {},
   "outputs": [],
   "source": [
    "time.sort()"
   ]
  },
  {
   "cell_type": "code",
   "execution_count": 54,
   "id": "8b38205d",
   "metadata": {},
   "outputs": [
    {
     "data": {
      "text/plain": [
       "[1, 2, 3, 3, 4, 5]"
      ]
     },
     "execution_count": 54,
     "metadata": {},
     "output_type": "execute_result"
    }
   ],
   "source": [
    "time"
   ]
  },
  {
   "cell_type": "code",
   "execution_count": 55,
   "id": "16b55c31",
   "metadata": {},
   "outputs": [],
   "source": [
    "for i in range(N+1):\n",
    "    if i==0:\n",
    "        pass\n",
    "    else:\n",
    "        time[i]+=time[i-1]"
   ]
  },
  {
   "cell_type": "code",
   "execution_count": 56,
   "id": "bf31c72d",
   "metadata": {},
   "outputs": [
    {
     "name": "stdout",
     "output_type": "stream",
     "text": [
      "50\n"
     ]
    }
   ],
   "source": [
    "print(sum(time))"
   ]
  },
  {
   "cell_type": "code",
   "execution_count": 51,
   "id": "61a96a26",
   "metadata": {},
   "outputs": [
    {
     "ename": "ValueError",
     "evalue": "invalid literal for int() with base 10: ''",
     "output_type": "error",
     "traceback": [
      "\u001b[0;31m---------------------------------------------------------------------------\u001b[0m",
      "\u001b[0;31mValueError\u001b[0m                                Traceback (most recent call last)",
      "\u001b[0;32m<ipython-input-51-da652c180680>\u001b[0m in \u001b[0;36m<module>\u001b[0;34m\u001b[0m\n\u001b[1;32m      1\u001b[0m \u001b[0;32mimport\u001b[0m \u001b[0msys\u001b[0m\u001b[0;34m\u001b[0m\u001b[0;34m\u001b[0m\u001b[0m\n\u001b[1;32m      2\u001b[0m \u001b[0;34m\u001b[0m\u001b[0m\n\u001b[0;32m----> 3\u001b[0;31m \u001b[0mN\u001b[0m \u001b[0;34m=\u001b[0m \u001b[0mint\u001b[0m\u001b[0;34m(\u001b[0m\u001b[0msys\u001b[0m\u001b[0;34m.\u001b[0m\u001b[0mstdin\u001b[0m\u001b[0;34m.\u001b[0m\u001b[0mreadline\u001b[0m\u001b[0;34m(\u001b[0m\u001b[0;34m)\u001b[0m\u001b[0;34m)\u001b[0m\u001b[0;34m\u001b[0m\u001b[0;34m\u001b[0m\u001b[0m\n\u001b[0m\u001b[1;32m      4\u001b[0m \u001b[0mtime\u001b[0m \u001b[0;34m=\u001b[0m \u001b[0;34m[\u001b[0m\u001b[0msys\u001b[0m\u001b[0;34m.\u001b[0m\u001b[0mstdin\u001b[0m\u001b[0;34m.\u001b[0m\u001b[0mreadline\u001b[0m\u001b[0;34m(\u001b[0m\u001b[0;34m)\u001b[0m\u001b[0;34m.\u001b[0m\u001b[0mstrip\u001b[0m\u001b[0;34m(\u001b[0m\u001b[0;34m)\u001b[0m \u001b[0;32mfor\u001b[0m \u001b[0mi\u001b[0m \u001b[0;32min\u001b[0m \u001b[0mrange\u001b[0m\u001b[0;34m(\u001b[0m\u001b[0mN\u001b[0m\u001b[0;34m)\u001b[0m\u001b[0;34m]\u001b[0m\u001b[0;34m\u001b[0m\u001b[0;34m\u001b[0m\u001b[0m\n\u001b[1;32m      5\u001b[0m \u001b[0mtime\u001b[0m\u001b[0;34m.\u001b[0m\u001b[0msort\u001b[0m\u001b[0;34m(\u001b[0m\u001b[0;34m)\u001b[0m\u001b[0;34m\u001b[0m\u001b[0;34m\u001b[0m\u001b[0m\n",
      "\u001b[0;31mValueError\u001b[0m: invalid literal for int() with base 10: ''"
     ]
    }
   ],
   "source": [
    "import sys\n",
    "\n",
    "N = int(sys.stdin.readline())\n",
    "time = [sys.stdin.readline().strip() for i in range(N)]\n",
    "time.sort()\n",
    "      \n",
    "for i in range(N+1):\n",
    "    i = int(i)\n",
    "    if i==0:\n",
    "        pass\n",
    "    else:\n",
    "        time[i]+=time[i-1]\n",
    "print(sum(time))  "
   ]
  },
  {
   "cell_type": "code",
   "execution_count": 1,
   "id": "8373f2d5",
   "metadata": {},
   "outputs": [
    {
     "ename": "SyntaxError",
     "evalue": "leading zeros in decimal integer literals are not permitted; use an 0o prefix for octal integers (<ipython-input-1-dd653f96f177>, line 1)",
     "output_type": "error",
     "traceback": [
      "\u001b[0;36m  File \u001b[0;32m\"<ipython-input-1-dd653f96f177>\"\u001b[0;36m, line \u001b[0;32m1\u001b[0m\n\u001b[0;31m    00009-00009\u001b[0m\n\u001b[0m        ^\u001b[0m\n\u001b[0;31mSyntaxError\u001b[0m\u001b[0;31m:\u001b[0m leading zeros in decimal integer literals are not permitted; use an 0o prefix for octal integers\n"
     ]
    }
   ],
   "source": [
    "00009-00009"
   ]
  },
  {
   "cell_type": "code",
   "execution_count": 2,
   "id": "6a6097bb",
   "metadata": {},
   "outputs": [],
   "source": [
    "a='9-9'"
   ]
  },
  {
   "cell_type": "code",
   "execution_count": 3,
   "id": "fafdd168",
   "metadata": {},
   "outputs": [
    {
     "name": "stdout",
     "output_type": "stream",
     "text": [
      "0\n",
      "0\n",
      "0\n",
      "0\n",
      "9\n",
      "-\n",
      "0\n",
      "0\n",
      "0\n",
      "0\n",
      "9\n"
     ]
    }
   ],
   "source": [
    "cnt = 0\n",
    "while True:\n",
    "    if a[cnt] ==0:\n",
    "        cnt+=1\n",
    "    elif int(a[cnt]) == int:\n",
    "        "
   ]
  },
  {
   "cell_type": "code",
   "execution_count": 59,
   "id": "aa9ce0fd",
   "metadata": {},
   "outputs": [],
   "source": [
    "num = \"9000-0900\"\n",
    "\n",
    "math = []\n",
    "mi=0\n",
    "cnt=0\n",
    "while cnt<len(num):\n",
    "    if num[cnt]==\"-\" or num[cnt] == \"+\":\n",
    "        if num[cnt]==\"-\":\n",
    "            if mi ==0:\n",
    "                math.append(f\"{num[cnt]}(\")\n",
    "                mi+=1\n",
    "                cnt+=1\n",
    "            else:\n",
    "                math.append(f\"{num[cnt]})\")\n",
    "                mi=0\n",
    "                cnt+=1\n",
    "        else:\n",
    "            math.append(f\"{num[cnt]}\")\n",
    "            cnt+=1\n",
    "    else:\n",
    "        if num[cnt]==\"0\":\n",
    "            cnt+=1\n",
    "        else:\n",
    "            math.append(f\"{num[cnt]}\")\n",
    "            cnt+=1"
   ]
  },
  {
   "cell_type": "code",
   "execution_count": 60,
   "id": "49556063",
   "metadata": {},
   "outputs": [],
   "source": [
    "a= \"\".join(math)"
   ]
  },
  {
   "cell_type": "code",
   "execution_count": 61,
   "id": "9f4df241",
   "metadata": {},
   "outputs": [
    {
     "data": {
      "text/plain": [
       "str"
      ]
     },
     "execution_count": 61,
     "metadata": {},
     "output_type": "execute_result"
    }
   ],
   "source": [
    "type(num[0])"
   ]
  },
  {
   "cell_type": "code",
   "execution_count": 62,
   "id": "6de1667e",
   "metadata": {},
   "outputs": [
    {
     "data": {
      "text/plain": [
       "'9-(9'"
      ]
     },
     "execution_count": 62,
     "metadata": {},
     "output_type": "execute_result"
    }
   ],
   "source": [
    "a"
   ]
  },
  {
   "cell_type": "code",
   "execution_count": 58,
   "id": "a305b8de",
   "metadata": {},
   "outputs": [
    {
     "data": {
      "text/plain": [
       "['9', '-(', '9']"
      ]
     },
     "execution_count": 58,
     "metadata": {},
     "output_type": "execute_result"
    }
   ],
   "source": [
    "math"
   ]
  },
  {
   "cell_type": "code",
   "execution_count": 16,
   "id": "792b7649",
   "metadata": {},
   "outputs": [],
   "source": [
    "math = \"55-50+40\""
   ]
  },
  {
   "cell_type": "code",
   "execution_count": 28,
   "id": "1bd80119-d0e4-4c5a-b44b-50cf4ff38369",
   "metadata": {},
   "outputs": [
    {
     "data": {
      "text/plain": [
       "'55-50+40'"
      ]
     },
     "execution_count": 28,
     "metadata": {},
     "output_type": "execute_result"
    }
   ],
   "source": [
    "num = 0\n",
    "while True:\n",
    "    if math[num] == \"-\":\n",
    "        "
   ]
  },
  {
   "cell_type": "code",
   "execution_count": 23,
   "id": "4619ee75-3408-4bcf-b37b-3171a326e06b",
   "metadata": {},
   "outputs": [
    {
     "ename": "ValueError",
     "evalue": "invalid literal for int() with base 10: '50+40'",
     "output_type": "error",
     "traceback": [
      "\u001b[0;31m---------------------------------------------------------------------------\u001b[0m",
      "\u001b[0;31mValueError\u001b[0m                                Traceback (most recent call last)",
      "\u001b[0;32m<ipython-input-23-6c566afe2a21>\u001b[0m in \u001b[0;36m<module>\u001b[0;34m\u001b[0m\n\u001b[0;32m----> 1\u001b[0;31m \u001b[0mlist\u001b[0m\u001b[0;34m(\u001b[0m\u001b[0mmap\u001b[0m\u001b[0;34m(\u001b[0m\u001b[0mint\u001b[0m\u001b[0;34m,\u001b[0m \u001b[0ma\u001b[0m\u001b[0;34m)\u001b[0m\u001b[0;34m)\u001b[0m\u001b[0;34m\u001b[0m\u001b[0;34m\u001b[0m\u001b[0m\n\u001b[0m",
      "\u001b[0;31mValueError\u001b[0m: invalid literal for int() with base 10: '50+40'"
     ]
    }
   ],
   "source": [
    "list(map(int, a))"
   ]
  },
  {
   "cell_type": "code",
   "execution_count": 51,
   "id": "43138356-ac03-4d3b-b5b3-b9e46e9a3d56",
   "metadata": {},
   "outputs": [],
   "source": [
    "b = \"55-50+40\""
   ]
  },
  {
   "cell_type": "code",
   "execution_count": 48,
   "id": "9d426a13",
   "metadata": {},
   "outputs": [
    {
     "ename": "IndexError",
     "evalue": "string index out of range",
     "output_type": "error",
     "traceback": [
      "\u001b[0;31m---------------------------------------------------------------------------\u001b[0m",
      "\u001b[0;31mIndexError\u001b[0m                                Traceback (most recent call last)",
      "\u001b[0;32m<ipython-input-48-7ee5ac7a94a3>\u001b[0m in \u001b[0;36m<module>\u001b[0;34m\u001b[0m\n\u001b[0;32m----> 1\u001b[0;31m \u001b[0;32mif\u001b[0m \u001b[0mb\u001b[0m\u001b[0;34m[\u001b[0m\u001b[0;36m9\u001b[0m\u001b[0;34m]\u001b[0m\u001b[0;34m==\u001b[0m\u001b[0;32mNone\u001b[0m\u001b[0;34m:\u001b[0m\u001b[0;34m\u001b[0m\u001b[0;34m\u001b[0m\u001b[0m\n\u001b[0m\u001b[1;32m      2\u001b[0m     \u001b[0mprint\u001b[0m\u001b[0;34m(\u001b[0m\u001b[0;34m\"True\"\u001b[0m\u001b[0;34m)\u001b[0m\u001b[0;34m\u001b[0m\u001b[0;34m\u001b[0m\u001b[0m\n",
      "\u001b[0;31mIndexError\u001b[0m: string index out of range"
     ]
    }
   ],
   "source": []
  },
  {
   "cell_type": "code",
   "execution_count": 38,
   "id": "5d28cd6f",
   "metadata": {},
   "outputs": [
    {
     "ename": "SyntaxError",
     "evalue": "invalid syntax (<ipython-input-38-35666223915a>, line 6)",
     "output_type": "error",
     "traceback": [
      "\u001b[0;36m  File \u001b[0;32m\"<ipython-input-38-35666223915a>\"\u001b[0;36m, line \u001b[0;32m6\u001b[0m\n\u001b[0;31m    while :\u001b[0m\n\u001b[0m          ^\u001b[0m\n\u001b[0;31mSyntaxError\u001b[0m\u001b[0;31m:\u001b[0m invalid syntax\n"
     ]
    }
   ],
   "source": [
    "math = input()\n",
    "start = 0\n",
    "end = 0\n",
    "math_plus = []\n",
    "math_mi = []\n",
    "mi =0\n",
    "while True:\n",
    "    if math[mi] ==\"-\" or math[mi]==\"+\":\n",
    "        if mi ==0:\n",
    "            pass\n",
    "        else:\n",
    "            if math[mi] ==\"-\":\n",
    "                math_mi.append(math[start:end])\n",
    "            elif math[mi] ==\"+\":\n",
    "                if math_mi != []: #들어있다면\n",
    "                    math_mi.append(math[start:end])\n",
    "                else: #들어있지 않다면\n",
    "                    math_plus.append(math[start:end])\n",
    "                \n",
    "    else:\n",
    "        end+=1"
   ]
  },
  {
   "cell_type": "code",
   "execution_count": 56,
   "id": "bab84840",
   "metadata": {},
   "outputs": [
    {
     "data": {
      "text/plain": [
       "9"
      ]
     },
     "execution_count": 56,
     "metadata": {},
     "output_type": "execute_result"
    }
   ],
   "source": [
    "int(\"0009\")"
   ]
  },
  {
   "cell_type": "code",
   "execution_count": 57,
   "id": "74d5a3b8",
   "metadata": {},
   "outputs": [],
   "source": [
    "import re\n",
    "\n",
    "p = re.compile('[0-9]')\n",
    "result = p.findall(b)"
   ]
  },
  {
   "cell_type": "code",
   "execution_count": 58,
   "id": "e3036880",
   "metadata": {},
   "outputs": [
    {
     "data": {
      "text/plain": [
       "['5', '5', '5', '0', '4', '0']"
      ]
     },
     "execution_count": 58,
     "metadata": {},
     "output_type": "execute_result"
    }
   ],
   "source": [
    "result"
   ]
  },
  {
   "cell_type": "code",
   "execution_count": null,
   "id": "474b5682",
   "metadata": {},
   "outputs": [],
   "source": []
  }
 ],
 "metadata": {
  "kernelspec": {
   "display_name": "Python [conda env:tf25] *",
   "language": "python",
   "name": "conda-env-tf25-py"
  },
  "language_info": {
   "codemirror_mode": {
    "name": "ipython",
    "version": 3
   },
   "file_extension": ".py",
   "mimetype": "text/x-python",
   "name": "python",
   "nbconvert_exporter": "python",
   "pygments_lexer": "ipython3",
   "version": "3.9.0"
  }
 },
 "nbformat": 4,
 "nbformat_minor": 5
}
