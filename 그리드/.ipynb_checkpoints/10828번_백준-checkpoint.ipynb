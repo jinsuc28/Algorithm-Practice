{
 "cells": [
  {
   "cell_type": "code",
   "execution_count": 81,
   "id": "96051b54",
   "metadata": {
    "scrolled": true
   },
   "outputs": [
    {
     "name": "stdout",
     "output_type": "stream",
     "text": [
      "7\n",
      "pop\n",
      "top\n",
      "push 123\n",
      "top\n",
      "pop\n",
      "top\n",
      "pop\n",
      "-1\n",
      "-1\n",
      "123\n",
      "123\n",
      "-1\n",
      "-1\n"
     ]
    }
   ],
   "source": [
    "N = int(input())\n",
    "order = [input().split(' ') for i in range(N)]\n",
    "\n",
    "stack=[]\n",
    "\n",
    "for idx in range(N):\n",
    "    if order[idx][0]== 'push':\n",
    "        stack.append(int(order[idx][1]))\n",
    "        \n",
    "    elif order[idx][0]== 'pop':\n",
    "        if len(stack)==0:\n",
    "            print(-1)\n",
    "        else:\n",
    "            print(stack.pop())\n",
    "        \n",
    "    elif order[idx][0]=='size':\n",
    "        print(len(stack))\n",
    "        \n",
    "    elif order[idx][0]=='empty':\n",
    "        if len(stack)==0:\n",
    "            print(1)\n",
    "        else:\n",
    "            print(0)\n",
    "        \n",
    "    elif order[idx][0]=='top':\n",
    "        if len(stack)==0:\n",
    "            print(-1)\n",
    "        else:\n",
    "            print(stack[-1])"
   ]
  }
 ],
 "metadata": {
  "kernelspec": {
   "display_name": "Python [conda env:tf25] *",
   "language": "python",
   "name": "conda-env-tf25-py"
  },
  "language_info": {
   "codemirror_mode": {
    "name": "ipython",
    "version": 3
   },
   "file_extension": ".py",
   "mimetype": "text/x-python",
   "name": "python",
   "nbconvert_exporter": "python",
   "pygments_lexer": "ipython3",
   "version": "3.9.0"
  }
 },
 "nbformat": 4,
 "nbformat_minor": 5
}
