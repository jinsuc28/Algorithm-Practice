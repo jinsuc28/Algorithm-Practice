{
 "cells": [
  {
   "cell_type": "code",
   "execution_count": 6,
   "id": "cddc451f",
   "metadata": {},
   "outputs": [
    {
     "name": "stdout",
     "output_type": "stream",
     "text": [
      "3\n",
      "((\n",
      "))\n",
      "())(()\n",
      "NO\n",
      "NO\n",
      "NO\n"
     ]
    }
   ],
   "source": [
    "T = int(input())\n",
    "\n",
    "VP = [list(input()) for t in range(T)]\n",
    "for vp in VP:\n",
    "    cnt=0\n",
    "    for v in vp:\n",
    "        if v=='(':\n",
    "            cnt+=1\n",
    "        elif v==')':\n",
    "            cnt+=-1\n",
    "            if cnt<0:\n",
    "                break\n",
    "    if cnt==0:\n",
    "        print('YES')\n",
    "    else:\n",
    "        print('NO')\n"
   ]
  },
  {
   "cell_type": "code",
   "execution_count": null,
   "id": "354a9321",
   "metadata": {},
   "outputs": [],
   "source": [
    "3\n",
    "((\n",
    "))\n",
    "())(()\n",
    "VP = [['(','('],[')',')'],['(',')',')','(','(',')']]"
   ]
  },
  {
   "cell_type": "code",
   "execution_count": 8,
   "id": "3bd04224",
   "metadata": {},
   "outputs": [
    {
     "ename": "TypeError",
     "evalue": "'str' object cannot be interpreted as an integer",
     "output_type": "error",
     "traceback": [
      "\u001b[0;31m---------------------------------------------------------------------------\u001b[0m",
      "\u001b[0;31mTypeError\u001b[0m                                 Traceback (most recent call last)",
      "Input \u001b[0;32mIn [8]\u001b[0m, in \u001b[0;36m<cell line: 3>\u001b[0;34m()\u001b[0m\n\u001b[1;32m      1\u001b[0m \u001b[38;5;28;01mimport\u001b[39;00m \u001b[38;5;21;01msys\u001b[39;00m\n\u001b[0;32m----> 3\u001b[0m vp \u001b[38;5;241m=\u001b[39m (\u001b[43msys\u001b[49m\u001b[38;5;241;43m.\u001b[39;49m\u001b[43mstdin\u001b[49m\u001b[38;5;241;43m.\u001b[39;49m\u001b[43mreadline\u001b[49m\u001b[43m(\u001b[49m\u001b[38;5;124;43m'\u001b[39;49m\u001b[38;5;124;43m(())())\u001b[39;49m\u001b[38;5;124;43m'\u001b[39;49m\u001b[43m)\u001b[49m)\n",
      "\u001b[0;31mTypeError\u001b[0m: 'str' object cannot be interpreted as an integer"
     ]
    }
   ],
   "source": [
    "import sys\n",
    "\n",
    "vp = (sys.stdin.readline())"
   ]
  },
  {
   "cell_type": "code",
   "execution_count": 10,
   "id": "d58d3512",
   "metadata": {},
   "outputs": [
    {
     "name": "stdout",
     "output_type": "stream",
     "text": [
      "(())())\n"
     ]
    },
    {
     "data": {
      "text/plain": [
       "['(', '(', ')', ')', '(', ')', ')']"
      ]
     },
     "execution_count": 10,
     "metadata": {},
     "output_type": "execute_result"
    }
   ],
   "source": [
    "vp = list(input())\n",
    "vp"
   ]
  },
  {
   "cell_type": "code",
   "execution_count": null,
   "id": "c7431c0b",
   "metadata": {},
   "outputs": [],
   "source": []
  }
 ],
 "metadata": {
  "kernelspec": {
   "display_name": "Python [conda env:tf25] *",
   "language": "python",
   "name": "conda-env-tf25-py"
  },
  "language_info": {
   "codemirror_mode": {
    "name": "ipython",
    "version": 3
   },
   "file_extension": ".py",
   "mimetype": "text/x-python",
   "name": "python",
   "nbconvert_exporter": "python",
   "pygments_lexer": "ipython3",
   "version": "3.9.0"
  }
 },
 "nbformat": 4,
 "nbformat_minor": 5
}
