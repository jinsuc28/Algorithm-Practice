{
 "cells": [
  {
   "cell_type": "markdown",
   "id": "55425720",
   "metadata": {},
   "source": [
    "# 수 정렬하기 (2750번)"
   ]
  },
  {
   "cell_type": "code",
   "execution_count": null,
   "id": "d13a9f33",
   "metadata": {},
   "outputs": [],
   "source": [
    "N = int(input())\n",
    "num = []\n",
    "\n",
    "for i in range(N):\n",
    "    num.append(int(input()))\n",
    "num.sort()\n",
    "\n",
    "for i in num:\n",
    "    print(i)"
   ]
  },
  {
   "cell_type": "markdown",
   "id": "404e5952",
   "metadata": {},
   "source": [
    "# 수 정렬하기 2 (2751번)"
   ]
  },
  {
   "cell_type": "code",
   "execution_count": 25,
   "id": "52b7dcc1",
   "metadata": {},
   "outputs": [
    {
     "name": "stdout",
     "output_type": "stream",
     "text": [
      "5\n",
      "4\n",
      "2\n",
      "3\n",
      "1\n",
      "5\n",
      "5\n",
      "4\n",
      "3\n",
      "2\n",
      "1\n"
     ]
    }
   ],
   "source": [
    "N = int(input())\n",
    "num_list = [ int(input()) for i in range(N)]\n",
    "\n",
    "num_list.sort(reverse=True)\n",
    "\n",
    "for n in num_list:\n",
    "    print(n)"
   ]
  },
  {
   "cell_type": "code",
   "execution_count": null,
   "id": "5e016536",
   "metadata": {},
   "outputs": [],
   "source": []
  }
 ],
 "metadata": {
  "kernelspec": {
   "display_name": "Python 3 (ipykernel)",
   "language": "python",
   "name": "python3"
  },
  "language_info": {
   "codemirror_mode": {
    "name": "ipython",
    "version": 3
   },
   "file_extension": ".py",
   "mimetype": "text/x-python",
   "name": "python",
   "nbconvert_exporter": "python",
   "pygments_lexer": "ipython3",
   "version": "3.9.10"
  }
 },
 "nbformat": 4,
 "nbformat_minor": 5
}
