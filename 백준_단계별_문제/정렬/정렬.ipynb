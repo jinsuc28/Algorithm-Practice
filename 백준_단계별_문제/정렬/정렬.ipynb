{
 "cells": [
  {
   "cell_type": "markdown",
   "id": "55425720",
   "metadata": {},
   "source": [
    "# 수 정렬하기 (2750번)"
   ]
  },
  {
   "cell_type": "code",
   "execution_count": null,
   "id": "d13a9f33",
   "metadata": {},
   "outputs": [],
   "source": [
    "N = int(input())\n",
    "num = []\n",
    "\n",
    "for i in range(N):\n",
    "    num.append(int(input()))\n",
    "num.sort()\n",
    "\n",
    "for i in num:\n",
    "    print(i)"
   ]
  },
  {
   "cell_type": "markdown",
   "id": "404e5952",
   "metadata": {},
   "source": [
    "# 수 정렬하기 2 (2751번)"
   ]
  },
  {
   "cell_type": "code",
   "execution_count": 25,
   "id": "52b7dcc1",
   "metadata": {},
   "outputs": [
    {
     "name": "stdout",
     "output_type": "stream",
     "text": [
      "5\n",
      "4\n",
      "2\n",
      "3\n",
      "1\n",
      "5\n",
      "5\n",
      "4\n",
      "3\n",
      "2\n",
      "1\n"
     ]
    }
   ],
   "source": [
    "N = int(input())\n",
    "num_list = [ int(input()) for i in range(N)]\n",
    "\n",
    "num_list.sort()\n",
    "\n",
    "for n in num_list:\n",
    "    print(n)"
   ]
  },
  {
   "cell_type": "markdown",
   "id": "57617d3e",
   "metadata": {},
   "source": [
    "# 수 정렬하기 3 (10989번)"
   ]
  },
  {
   "cell_type": "code",
   "execution_count": 22,
   "id": "327e2878",
   "metadata": {},
   "outputs": [
    {
     "name": "stdout",
     "output_type": "stream",
     "text": [
      "peak memory: 82.89 MiB, increment: 0.02 MiB\n",
      "5\n",
      "1\n",
      "2\n",
      "3\n",
      "4\n",
      "5\n",
      "1\n",
      "2\n",
      "3\n",
      "4\n",
      "5\n"
     ]
    }
   ],
   "source": [
    "import sys\n",
    "\n",
    "# counting 정렬을 이용해야 해결가능(가장 메모리를 적게 사용하는 정렬)\n",
    "# sort는 tim sort라고해서 속도우선 알고리즘이다.\n",
    "\n",
    "N = int(sys.stdin.readline())\n",
    "num_list = [0 for i in range(10001)]\n",
    "for n in range(N):\n",
    "    num_list[int(sys.stdin.readline())] += 1\n",
    "\n",
    "for i in range(10001):\n",
    "    if num_list[i] != 0:\n",
    "        for _ in range(num_list[i]):\n",
    "            print(i)"
   ]
  },
  {
   "cell_type": "code",
   "execution_count": 8,
   "id": "2806b3c5",
   "metadata": {},
   "outputs": [
    {
     "name": "stdout",
     "output_type": "stream",
     "text": [
      "The memory_profiler extension is already loaded. To reload it, use:\n",
      "  %reload_ext memory_profiler\n",
      "In [8] used 0.0000 MiB RAM in 0.11s, peaked 0.00 MiB above current, total RAM usage 64.83 MiB\n"
     ]
    }
   ],
   "source": [
    "# magic command %memit 를 사용하기 위해 필요한 라이브러리, \n",
    "import memory_profiler \n",
    "%load_ext memory_profiler\n",
    "########################\n",
    "# ipython_memory를 사용하여 cell별로 메모리를 계속 관찰하기 위한 라이브러리. \n",
    "import ipython_memory_usage \n",
    "import ipython_memory_usage.ipython_memory_usage as imu\n",
    "%ipython_memory_usage_start\n",
    "\n",
    "\n",
    "N =10**6\n",
    "\n",
    "# memory watching start \n",
    "imu.start_watching_memory()\n",
    "\n",
    "%memit"
   ]
  }
 ],
 "metadata": {
  "kernelspec": {
   "display_name": "Python 3 (ipykernel)",
   "language": "python",
   "name": "python3"
  },
  "language_info": {
   "codemirror_mode": {
    "name": "ipython",
    "version": 3
   },
   "file_extension": ".py",
   "mimetype": "text/x-python",
   "name": "python",
   "nbconvert_exporter": "python",
   "pygments_lexer": "ipython3",
   "version": "3.9.10"
  }
 },
 "nbformat": 4,
 "nbformat_minor": 5
}
