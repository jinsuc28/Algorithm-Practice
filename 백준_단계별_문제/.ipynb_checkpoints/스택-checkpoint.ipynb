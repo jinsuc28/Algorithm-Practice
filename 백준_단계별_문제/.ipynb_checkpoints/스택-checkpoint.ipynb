{
 "cells": [
  {
   "cell_type": "markdown",
   "id": "cd610bd9",
   "metadata": {},
   "source": [
    "# 스택 (10828번)"
   ]
  },
  {
   "cell_type": "code",
   "execution_count": 81,
   "id": "96051b54",
   "metadata": {
    "scrolled": true
   },
   "outputs": [
    {
     "name": "stdout",
     "output_type": "stream",
     "text": [
      "7\n",
      "pop\n",
      "top\n",
      "push 123\n",
      "top\n",
      "pop\n",
      "top\n",
      "pop\n",
      "-1\n",
      "-1\n",
      "123\n",
      "123\n",
      "-1\n",
      "-1\n"
     ]
    }
   ],
   "source": [
    "N = int(input())\n",
    "order = [input().split(' ') for i in range(N)]\n",
    "\n",
    "stack=[]\n",
    "\n",
    "for idx in range(N):\n",
    "    if order[idx][0]== 'push':\n",
    "        stack.append(int(order[idx][1]))\n",
    "        \n",
    "    elif order[idx][0]== 'pop':\n",
    "        if len(stack)==0:\n",
    "            print(-1)\n",
    "        else:\n",
    "            print(stack.pop())\n",
    "        \n",
    "    elif order[idx][0]=='size':\n",
    "        print(len(stack))\n",
    "        \n",
    "    elif order[idx][0]=='empty':\n",
    "        if len(stack)==0:\n",
    "            print(1)\n",
    "        else:\n",
    "            print(0)\n",
    "        \n",
    "    elif order[idx][0]=='top':\n",
    "        if len(stack)==0:\n",
    "            print(-1)\n",
    "        else:\n",
    "            print(stack[-1])"
   ]
  },
  {
   "cell_type": "markdown",
   "id": "f9a11b66",
   "metadata": {},
   "source": [
    "#  괄호 (9012번)"
   ]
  },
  {
   "cell_type": "code",
   "execution_count": null,
   "id": "e3dc177f",
   "metadata": {},
   "outputs": [],
   "source": [
    "T = int(input())\n",
    "\n",
    "VP = [list(input()) for t in range(T)]\n",
    "for vp in VP:\n",
    "    cnt=0\n",
    "    for v in vp:\n",
    "        if v=='(':\n",
    "            cnt+=1\n",
    "        elif v==')':\n",
    "            cnt+=-1\n",
    "            if cnt<0:\n",
    "                break\n",
    "    if cnt==0:\n",
    "        print('YES')\n",
    "    else:\n",
    "        print('NO')\n"
   ]
  }
 ],
 "metadata": {
  "kernelspec": {
   "display_name": "Python 3 (ipykernel)",
   "language": "python",
   "name": "python3"
  },
  "language_info": {
   "codemirror_mode": {
    "name": "ipython",
    "version": 3
   },
   "file_extension": ".py",
   "mimetype": "text/x-python",
   "name": "python",
   "nbconvert_exporter": "python",
   "pygments_lexer": "ipython3",
   "version": "3.9.10"
  }
 },
 "nbformat": 4,
 "nbformat_minor": 5
}
