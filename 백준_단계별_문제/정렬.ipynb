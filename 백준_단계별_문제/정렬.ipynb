{
 "cells": [
  {
   "cell_type": "markdown",
   "id": "55425720",
   "metadata": {},
   "source": [
    "# 수 정렬하기 (2750번)"
   ]
  },
  {
   "cell_type": "code",
   "execution_count": null,
   "id": "d13a9f33",
   "metadata": {},
   "outputs": [],
   "source": [
    "N = int(input())\n",
    "num = []\n",
    "\n",
    "for i in range(N):\n",
    "    num.append(int(input()))\n",
    "num.sort()\n",
    "\n",
    "for i in num:\n",
    "    print(i)"
   ]
  },
  {
   "cell_type": "markdown",
   "id": "404e5952",
   "metadata": {},
   "source": [
    "# 수 정렬하기 2 (2751번)"
   ]
  },
  {
   "cell_type": "code",
   "execution_count": 25,
   "id": "52b7dcc1",
   "metadata": {},
   "outputs": [
    {
     "name": "stdout",
     "output_type": "stream",
     "text": [
      "5\n",
      "4\n",
      "2\n",
      "3\n",
      "1\n",
      "5\n",
      "5\n",
      "4\n",
      "3\n",
      "2\n",
      "1\n"
     ]
    }
   ],
   "source": [
    "N = int(input())\n",
    "num_list = [ int(input()) for i in range(N)]\n",
    "\n",
    "num_list.sort()\n",
    "\n",
    "for n in num_list:\n",
    "    print(n)"
   ]
  },
  {
   "cell_type": "markdown",
   "id": "57617d3e",
   "metadata": {},
   "source": [
    "# 수 정렬하기 3 (10989번)"
   ]
  },
  {
   "cell_type": "code",
   "execution_count": 22,
   "id": "327e2878",
   "metadata": {},
   "outputs": [
    {
     "name": "stdout",
     "output_type": "stream",
     "text": [
      "peak memory: 82.89 MiB, increment: 0.02 MiB\n",
      "5\n",
      "1\n",
      "2\n",
      "3\n",
      "4\n",
      "5\n",
      "1\n",
      "2\n",
      "3\n",
      "4\n",
      "5\n"
     ]
    }
   ],
   "source": [
    "import sys\n",
    "\n",
    "# counting 정렬을 이용해야 해결가능(가장 메모리를 적게 사용하는 정렬)\n",
    "# sort는 tim sort라고해서 속도우선 알고리즘이다.\n",
    "\n",
    "N = int(sys.stdin.readline())\n",
    "num_list = [0 for i in range(10001)]\n",
    "for n in range(N):\n",
    "    num_list[int(sys.stdin.readline())] += 1\n",
    "\n",
    "for i in range(10001):\n",
    "    if num_list[i] != 0:\n",
    "        for _ in range(num_list[i]): # 중복 고려\n",
    "            print(i)"
   ]
  },
  {
   "cell_type": "code",
   "execution_count": 8,
   "id": "2806b3c5",
   "metadata": {},
   "outputs": [
    {
     "name": "stdout",
     "output_type": "stream",
     "text": [
      "The memory_profiler extension is already loaded. To reload it, use:\n",
      "  %reload_ext memory_profiler\n",
      "In [8] used 0.0000 MiB RAM in 0.11s, peaked 0.00 MiB above current, total RAM usage 64.83 MiB\n"
     ]
    }
   ],
   "source": [
    "# magic command %memit 를 사용하기 위해 필요한 라이브러리, \n",
    "import memory_profiler \n",
    "%load_ext memory_profiler\n",
    "########################\n",
    "# ipython_memory를 사용하여 cell별로 메모리를 계속 관찰하기 위한 라이브러리. \n",
    "import ipython_memory_usage \n",
    "import ipython_memory_usage.ipython_memory_usage as imu\n",
    "%ipython_memory_usage_start\n",
    "\n",
    "\n",
    "N =10**6\n",
    "\n",
    "# memory watching start \n",
    "imu.start_watching_memory()\n",
    "\n",
    "%memit"
   ]
  },
  {
   "cell_type": "markdown",
   "id": "25a5fa60",
   "metadata": {},
   "source": [
    "# 소트인사이드(1427번)"
   ]
  },
  {
   "cell_type": "code",
   "execution_count": 45,
   "id": "0100d31b",
   "metadata": {},
   "outputs": [
    {
     "name": "stdout",
     "output_type": "stream",
     "text": [
      "4123\n",
      "1234\n"
     ]
    }
   ],
   "source": [
    "# sort 문자열도 사용가능\n",
    "# sort 오름차순 정렬\n",
    "# sort reverse True 내림차순 정렬\n",
    "\n",
    "# sys.stdin.readline() 보다 빠르게 나옴 적은 데이터면 input()쓰자\n",
    "num = input()\n",
    "num_list = [n for n in num]\n",
    "num_list.sort(reverse=True)\n",
    "result=''\n",
    "for i in num_list:\n",
    "    result +=i\n",
    "\n",
    "print(int(result))"
   ]
  },
  {
   "cell_type": "markdown",
   "id": "d30af59d",
   "metadata": {},
   "source": [
    "# 좌표 정렬하기 (11650)"
   ]
  },
  {
   "cell_type": "code",
   "execution_count": 18,
   "id": "8ae6b2e4",
   "metadata": {},
   "outputs": [
    {
     "name": "stdout",
     "output_type": "stream",
     "text": [
      "1\n",
      "1 1\n",
      "1 1\n"
     ]
    }
   ],
   "source": [
    "import sys\n",
    "\n",
    "# 값이 두개여도 sort는 정렬 가능하다\n",
    "\n",
    "N = int(input())\n",
    "num = []\n",
    "for i in range(N):\n",
    "    x,y = map(int, sys.stdin.readline().split(' '))\n",
    "    num.append((x,y))\n",
    "\n",
    "num.sort()\n",
    "for x,y in num:\n",
    "    print(x,y)"
   ]
  },
  {
   "cell_type": "markdown",
   "id": "128f6e59",
   "metadata": {},
   "source": [
    "# 좌표 정렬하기 (11651번)"
   ]
  },
  {
   "cell_type": "code",
   "execution_count": 21,
   "id": "8632c7b4",
   "metadata": {},
   "outputs": [
    {
     "name": "stdout",
     "output_type": "stream",
     "text": [
      "5\n",
      "0 4\n",
      "1 2\n",
      "1 -1\n",
      "2 2\n",
      "3 3\n",
      "1 -1\n",
      "1 2\n",
      "2 2\n",
      "3 3\n",
      "0 4\n"
     ]
    }
   ],
   "source": [
    "import sys\n",
    "\n",
    "N = int(input())\n",
    "num = []\n",
    "for i in range(N):\n",
    "    x,y = map(int, sys.stdin.readline().split(' '))\n",
    "    num.append((y,x))\n",
    "\n",
    "num.sort()\n",
    "for y,x in num:\n",
    "    print(x,y)"
   ]
  },
  {
   "cell_type": "markdown",
   "id": "9ba7e204",
   "metadata": {},
   "source": [
    "# 단어 정렬 (1181번)"
   ]
  },
  {
   "cell_type": "code",
   "execution_count": 34,
   "id": "5298ab06",
   "metadata": {},
   "outputs": [
    {
     "name": "stdout",
     "output_type": "stream",
     "text": [
      "13\n",
      "but\n",
      "i\n",
      "wont\n",
      "hesitate\n",
      "no\n",
      "nore\n",
      "no\n",
      "nore\n",
      "it\n",
      "cannot\n",
      "wait\n",
      "im\n",
      "yours\n",
      "i\n",
      "im\n",
      "it\n",
      "no\n",
      "but\n",
      "nore\n",
      "wait\n",
      "wont\n",
      "yours\n",
      "cannot\n",
      "hesitate\n"
     ]
    }
   ],
   "source": [
    "import sys\n",
    "\n",
    "N = int(input())\n",
    "num = []\n",
    "for i in range(N):\n",
    "    n = input()\n",
    "    cnt = len(n)\n",
    "    num.append((cnt,n))\n",
    "\n",
    "num.sort()\n",
    "for idx,(cnt,n) in enumerate(num):\n",
    "    if (idx !=0) & (num[idx]== num[idx-1]):\n",
    "        continue\n",
    "    else:\n",
    "        print(n)"
   ]
  },
  {
   "cell_type": "markdown",
   "id": "73c9bdf6",
   "metadata": {},
   "source": [
    "# 나이순 정렬 (10814번)"
   ]
  },
  {
   "cell_type": "code",
   "execution_count": 67,
   "id": "56f7df5c",
   "metadata": {
    "scrolled": false
   },
   "outputs": [
    {
     "name": "stdout",
     "output_type": "stream",
     "text": [
      "3\n",
      "21 Junkyu\n",
      "21 Dohyun\n",
      "20 Sunyoung\n",
      "20 Sunyoung\n",
      "21 Junkyu\n",
      "21 Dohyun\n"
     ]
    }
   ],
   "source": [
    "N = int(input())\n",
    "result = [[] for a in range(201)]\n",
    "for n in range(N):\n",
    "    row = input().split(' ')\n",
    "    result[int(row[0])].append(row[1])\n",
    "\n",
    "for idx,i in enumerate(result):\n",
    "    if i ==[]:\n",
    "        continue\n",
    "    elif len(i)>=2:\n",
    "        for a in i:\n",
    "            print(idx,a)\n",
    "    else:\n",
    "        print(idx,i[0])\n",
    "\n",
    "# sys.stdin.readline()을 쓰면 출력이 잘못 되었다고 나옴 이유 찾는 중"
   ]
  }
 ],
 "metadata": {
  "kernelspec": {
   "display_name": "Python 3 (ipykernel)",
   "language": "python",
   "name": "python3"
  },
  "language_info": {
   "codemirror_mode": {
    "name": "ipython",
    "version": 3
   },
   "file_extension": ".py",
   "mimetype": "text/x-python",
   "name": "python",
   "nbconvert_exporter": "python",
   "pygments_lexer": "ipython3",
   "version": "3.9.10"
  }
 },
 "nbformat": 4,
 "nbformat_minor": 5
}
